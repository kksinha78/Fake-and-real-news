{
  "cells": [
    {
      "cell_type": "code",
      "execution_count": 1,
      "id": "b890eb3d",
      "metadata": {
        "colab": {
          "base_uri": "https://localhost:8080/"
        },
        "id": "b890eb3d",
        "outputId": "df839727-129a-422b-81f0-da591c4e67cb"
      },
      "outputs": [
        {
          "output_type": "stream",
          "name": "stdout",
          "text": [
            "Drive already mounted at /gdrive; to attempt to forcibly remount, call drive.mount(\"/gdrive\", force_remount=True).\n"
          ]
        }
      ],
      "source": [
        "from google.colab import drive\n",
        "drive.mount('/gdrive')"
      ]
    },
    {
      "cell_type": "code",
      "source": [
        "import numpy as np\n",
        "import pandas as pd\n",
        "import seaborn as sns\n",
        "import matplotlib.pyplot as plt\n",
        "\n",
        "import warnings\n",
        "warnings.filterwarnings(\"ignore\")\n",
        "\n",
        "from sklearn.metrics import roc_curve,roc_auc_score\n",
        "from sklearn.metrics import classification_report,confusion_matrix,accuracy_score"
      ],
      "metadata": {
        "id": "4QFNbPFqHKGm"
      },
      "id": "4QFNbPFqHKGm",
      "execution_count": 2,
      "outputs": []
    },
    {
      "cell_type": "code",
      "execution_count": 3,
      "id": "8a11be2d",
      "metadata": {
        "colab": {
          "base_uri": "https://localhost:8080/"
        },
        "id": "8a11be2d",
        "outputId": "334290ae-6669-482e-fe33-eaf1133c011e"
      },
      "outputs": [
        {
          "output_type": "stream",
          "name": "stderr",
          "text": [
            "[nltk_data] Downloading package treebank to /root/nltk_data...\n",
            "[nltk_data]   Package treebank is already up-to-date!\n",
            "[nltk_data] Downloading package brown to /root/nltk_data...\n",
            "[nltk_data]   Package brown is already up-to-date!\n",
            "[nltk_data] Downloading package conll2000 to /root/nltk_data...\n",
            "[nltk_data]   Package conll2000 is already up-to-date!\n",
            "[nltk_data] Downloading package universal_tagset to /root/nltk_data...\n",
            "[nltk_data]   Package universal_tagset is already up-to-date!\n"
          ]
        },
        {
          "output_type": "execute_result",
          "data": {
            "text/plain": [
              "True"
            ]
          },
          "metadata": {},
          "execution_count": 3
        }
      ],
      "source": [
        "from nltk.stem.porter import PorterStemmer\n",
        "import nltk\n",
        "nltk.download('treebank')\n",
        "nltk.download('brown')\n",
        "nltk.download('conll2000')\n",
        "nltk.download('universal_tagset')"
      ]
    },
    {
      "cell_type": "code",
      "execution_count": 4,
      "id": "b0ecb8af",
      "metadata": {
        "id": "b0ecb8af"
      },
      "outputs": [],
      "source": [
        "import re, string\n",
        "import nltk\n",
        "#from nltk.corpus import brown\n",
        "#from nltk.corpus import treebank\n",
        "#from nltk.corpus import conll2007\n",
        "from nltk.corpus import stopwords\n"
      ]
    },
    {
      "cell_type": "code",
      "execution_count": 5,
      "id": "288a9649",
      "metadata": {
        "id": "288a9649"
      },
      "outputs": [],
      "source": [
        "True_news = pd.read_csv('/gdrive/My Drive/Colab Notebooks/RNN/Real_Fake_news model/True.csv')\n",
        "Fake_news = pd.read_csv('/gdrive/My Drive/Colab Notebooks/RNN/Real_Fake_news model/Fake.csv')\n"
      ]
    },
    {
      "cell_type": "code",
      "execution_count": 6,
      "id": "2f12e9e1",
      "metadata": {
        "colab": {
          "base_uri": "https://localhost:8080/"
        },
        "id": "2f12e9e1",
        "outputId": "24184640-45a7-424d-8cad-87c402666d91"
      },
      "outputs": [
        {
          "output_type": "stream",
          "name": "stdout",
          "text": [
            "<class 'pandas.core.frame.DataFrame'>\n",
            "RangeIndex: 21417 entries, 0 to 21416\n",
            "Data columns (total 4 columns):\n",
            " #   Column   Non-Null Count  Dtype \n",
            "---  ------   --------------  ----- \n",
            " 0   title    21417 non-null  object\n",
            " 1   text     21417 non-null  object\n",
            " 2   subject  21417 non-null  object\n",
            " 3   date     21417 non-null  object\n",
            "dtypes: object(4)\n",
            "memory usage: 669.4+ KB\n"
          ]
        }
      ],
      "source": [
        "True_news.info()"
      ]
    },
    {
      "cell_type": "code",
      "execution_count": 7,
      "id": "f4527dc5",
      "metadata": {
        "colab": {
          "base_uri": "https://localhost:8080/"
        },
        "id": "f4527dc5",
        "outputId": "dd266425-9278-4c40-fc86-fcdfc411e2bb"
      },
      "outputs": [
        {
          "output_type": "stream",
          "name": "stdout",
          "text": [
            "<class 'pandas.core.frame.DataFrame'>\n",
            "RangeIndex: 23481 entries, 0 to 23480\n",
            "Data columns (total 4 columns):\n",
            " #   Column   Non-Null Count  Dtype \n",
            "---  ------   --------------  ----- \n",
            " 0   title    23481 non-null  object\n",
            " 1   text     23481 non-null  object\n",
            " 2   subject  23481 non-null  object\n",
            " 3   date     23481 non-null  object\n",
            "dtypes: object(4)\n",
            "memory usage: 733.9+ KB\n"
          ]
        }
      ],
      "source": [
        "Fake_news.info()"
      ]
    },
    {
      "cell_type": "code",
      "execution_count": 8,
      "id": "e44def08",
      "metadata": {
        "colab": {
          "base_uri": "https://localhost:8080/",
          "height": 206
        },
        "id": "e44def08",
        "outputId": "2915114a-a10b-47ed-f800-d8102a129c82"
      },
      "outputs": [
        {
          "output_type": "execute_result",
          "data": {
            "text/plain": [
              "                                               title  \\\n",
              "0  As U.S. budget fight looms, Republicans flip t...   \n",
              "1  U.S. military to accept transgender recruits o...   \n",
              "2  Senior U.S. Republican senator: 'Let Mr. Muell...   \n",
              "3  FBI Russia probe helped by Australian diplomat...   \n",
              "4  Trump wants Postal Service to charge 'much mor...   \n",
              "\n",
              "                                                text       subject  \\\n",
              "0  WASHINGTON (Reuters) - The head of a conservat...  politicsNews   \n",
              "1  WASHINGTON (Reuters) - Transgender people will...  politicsNews   \n",
              "2  WASHINGTON (Reuters) - The special counsel inv...  politicsNews   \n",
              "3  WASHINGTON (Reuters) - Trump campaign adviser ...  politicsNews   \n",
              "4  SEATTLE/WASHINGTON (Reuters) - President Donal...  politicsNews   \n",
              "\n",
              "                 date  \n",
              "0  December 31, 2017   \n",
              "1  December 29, 2017   \n",
              "2  December 31, 2017   \n",
              "3  December 30, 2017   \n",
              "4  December 29, 2017   "
            ],
            "text/html": [
              "\n",
              "  <div id=\"df-b43c307c-682f-4bf3-b94b-53cec67bea4e\">\n",
              "    <div class=\"colab-df-container\">\n",
              "      <div>\n",
              "<style scoped>\n",
              "    .dataframe tbody tr th:only-of-type {\n",
              "        vertical-align: middle;\n",
              "    }\n",
              "\n",
              "    .dataframe tbody tr th {\n",
              "        vertical-align: top;\n",
              "    }\n",
              "\n",
              "    .dataframe thead th {\n",
              "        text-align: right;\n",
              "    }\n",
              "</style>\n",
              "<table border=\"1\" class=\"dataframe\">\n",
              "  <thead>\n",
              "    <tr style=\"text-align: right;\">\n",
              "      <th></th>\n",
              "      <th>title</th>\n",
              "      <th>text</th>\n",
              "      <th>subject</th>\n",
              "      <th>date</th>\n",
              "    </tr>\n",
              "  </thead>\n",
              "  <tbody>\n",
              "    <tr>\n",
              "      <th>0</th>\n",
              "      <td>As U.S. budget fight looms, Republicans flip t...</td>\n",
              "      <td>WASHINGTON (Reuters) - The head of a conservat...</td>\n",
              "      <td>politicsNews</td>\n",
              "      <td>December 31, 2017</td>\n",
              "    </tr>\n",
              "    <tr>\n",
              "      <th>1</th>\n",
              "      <td>U.S. military to accept transgender recruits o...</td>\n",
              "      <td>WASHINGTON (Reuters) - Transgender people will...</td>\n",
              "      <td>politicsNews</td>\n",
              "      <td>December 29, 2017</td>\n",
              "    </tr>\n",
              "    <tr>\n",
              "      <th>2</th>\n",
              "      <td>Senior U.S. Republican senator: 'Let Mr. Muell...</td>\n",
              "      <td>WASHINGTON (Reuters) - The special counsel inv...</td>\n",
              "      <td>politicsNews</td>\n",
              "      <td>December 31, 2017</td>\n",
              "    </tr>\n",
              "    <tr>\n",
              "      <th>3</th>\n",
              "      <td>FBI Russia probe helped by Australian diplomat...</td>\n",
              "      <td>WASHINGTON (Reuters) - Trump campaign adviser ...</td>\n",
              "      <td>politicsNews</td>\n",
              "      <td>December 30, 2017</td>\n",
              "    </tr>\n",
              "    <tr>\n",
              "      <th>4</th>\n",
              "      <td>Trump wants Postal Service to charge 'much mor...</td>\n",
              "      <td>SEATTLE/WASHINGTON (Reuters) - President Donal...</td>\n",
              "      <td>politicsNews</td>\n",
              "      <td>December 29, 2017</td>\n",
              "    </tr>\n",
              "  </tbody>\n",
              "</table>\n",
              "</div>\n",
              "      <button class=\"colab-df-convert\" onclick=\"convertToInteractive('df-b43c307c-682f-4bf3-b94b-53cec67bea4e')\"\n",
              "              title=\"Convert this dataframe to an interactive table.\"\n",
              "              style=\"display:none;\">\n",
              "        \n",
              "  <svg xmlns=\"http://www.w3.org/2000/svg\" height=\"24px\"viewBox=\"0 0 24 24\"\n",
              "       width=\"24px\">\n",
              "    <path d=\"M0 0h24v24H0V0z\" fill=\"none\"/>\n",
              "    <path d=\"M18.56 5.44l.94 2.06.94-2.06 2.06-.94-2.06-.94-.94-2.06-.94 2.06-2.06.94zm-11 1L8.5 8.5l.94-2.06 2.06-.94-2.06-.94L8.5 2.5l-.94 2.06-2.06.94zm10 10l.94 2.06.94-2.06 2.06-.94-2.06-.94-.94-2.06-.94 2.06-2.06.94z\"/><path d=\"M17.41 7.96l-1.37-1.37c-.4-.4-.92-.59-1.43-.59-.52 0-1.04.2-1.43.59L10.3 9.45l-7.72 7.72c-.78.78-.78 2.05 0 2.83L4 21.41c.39.39.9.59 1.41.59.51 0 1.02-.2 1.41-.59l7.78-7.78 2.81-2.81c.8-.78.8-2.07 0-2.86zM5.41 20L4 18.59l7.72-7.72 1.47 1.35L5.41 20z\"/>\n",
              "  </svg>\n",
              "      </button>\n",
              "      \n",
              "  <style>\n",
              "    .colab-df-container {\n",
              "      display:flex;\n",
              "      flex-wrap:wrap;\n",
              "      gap: 12px;\n",
              "    }\n",
              "\n",
              "    .colab-df-convert {\n",
              "      background-color: #E8F0FE;\n",
              "      border: none;\n",
              "      border-radius: 50%;\n",
              "      cursor: pointer;\n",
              "      display: none;\n",
              "      fill: #1967D2;\n",
              "      height: 32px;\n",
              "      padding: 0 0 0 0;\n",
              "      width: 32px;\n",
              "    }\n",
              "\n",
              "    .colab-df-convert:hover {\n",
              "      background-color: #E2EBFA;\n",
              "      box-shadow: 0px 1px 2px rgba(60, 64, 67, 0.3), 0px 1px 3px 1px rgba(60, 64, 67, 0.15);\n",
              "      fill: #174EA6;\n",
              "    }\n",
              "\n",
              "    [theme=dark] .colab-df-convert {\n",
              "      background-color: #3B4455;\n",
              "      fill: #D2E3FC;\n",
              "    }\n",
              "\n",
              "    [theme=dark] .colab-df-convert:hover {\n",
              "      background-color: #434B5C;\n",
              "      box-shadow: 0px 1px 3px 1px rgba(0, 0, 0, 0.15);\n",
              "      filter: drop-shadow(0px 1px 2px rgba(0, 0, 0, 0.3));\n",
              "      fill: #FFFFFF;\n",
              "    }\n",
              "  </style>\n",
              "\n",
              "      <script>\n",
              "        const buttonEl =\n",
              "          document.querySelector('#df-b43c307c-682f-4bf3-b94b-53cec67bea4e button.colab-df-convert');\n",
              "        buttonEl.style.display =\n",
              "          google.colab.kernel.accessAllowed ? 'block' : 'none';\n",
              "\n",
              "        async function convertToInteractive(key) {\n",
              "          const element = document.querySelector('#df-b43c307c-682f-4bf3-b94b-53cec67bea4e');\n",
              "          const dataTable =\n",
              "            await google.colab.kernel.invokeFunction('convertToInteractive',\n",
              "                                                     [key], {});\n",
              "          if (!dataTable) return;\n",
              "\n",
              "          const docLinkHtml = 'Like what you see? Visit the ' +\n",
              "            '<a target=\"_blank\" href=https://colab.research.google.com/notebooks/data_table.ipynb>data table notebook</a>'\n",
              "            + ' to learn more about interactive tables.';\n",
              "          element.innerHTML = '';\n",
              "          dataTable['output_type'] = 'display_data';\n",
              "          await google.colab.output.renderOutput(dataTable, element);\n",
              "          const docLink = document.createElement('div');\n",
              "          docLink.innerHTML = docLinkHtml;\n",
              "          element.appendChild(docLink);\n",
              "        }\n",
              "      </script>\n",
              "    </div>\n",
              "  </div>\n",
              "  "
            ]
          },
          "metadata": {},
          "execution_count": 8
        }
      ],
      "source": [
        "True_news.head()"
      ]
    },
    {
      "cell_type": "code",
      "execution_count": 9,
      "id": "4dfab6e1",
      "metadata": {
        "id": "4dfab6e1"
      },
      "outputs": [],
      "source": [
        "True_news['news_type'] = 1 #denoting True news by 1'"
      ]
    },
    {
      "cell_type": "code",
      "execution_count": 10,
      "id": "7989290c",
      "metadata": {
        "colab": {
          "base_uri": "https://localhost:8080/",
          "height": 206
        },
        "id": "7989290c",
        "outputId": "5b55eddf-fb3e-4f2b-a5f0-c43d5dd8a733"
      },
      "outputs": [
        {
          "output_type": "execute_result",
          "data": {
            "text/plain": [
              "                                                   title  \\\n",
              "21412  'Fully committed' NATO backs new U.S. approach...   \n",
              "21413  LexisNexis withdrew two products from Chinese ...   \n",
              "21414  Minsk cultural hub becomes haven from authorities   \n",
              "21415  Vatican upbeat on possibility of Pope Francis ...   \n",
              "21416  Indonesia to buy $1.14 billion worth of Russia...   \n",
              "\n",
              "                                                    text    subject  \\\n",
              "21412  BRUSSELS (Reuters) - NATO allies on Tuesday we...  worldnews   \n",
              "21413  LONDON (Reuters) - LexisNexis, a provider of l...  worldnews   \n",
              "21414  MINSK (Reuters) - In the shadow of disused Sov...  worldnews   \n",
              "21415  MOSCOW (Reuters) - Vatican Secretary of State ...  worldnews   \n",
              "21416  JAKARTA (Reuters) - Indonesia will buy 11 Sukh...  worldnews   \n",
              "\n",
              "                   date  news_type  \n",
              "21412  August 22, 2017           1  \n",
              "21413  August 22, 2017           1  \n",
              "21414  August 22, 2017           1  \n",
              "21415  August 22, 2017           1  \n",
              "21416  August 22, 2017           1  "
            ],
            "text/html": [
              "\n",
              "  <div id=\"df-79f8dc2e-4e81-44d5-a2a3-95bee18a3d13\">\n",
              "    <div class=\"colab-df-container\">\n",
              "      <div>\n",
              "<style scoped>\n",
              "    .dataframe tbody tr th:only-of-type {\n",
              "        vertical-align: middle;\n",
              "    }\n",
              "\n",
              "    .dataframe tbody tr th {\n",
              "        vertical-align: top;\n",
              "    }\n",
              "\n",
              "    .dataframe thead th {\n",
              "        text-align: right;\n",
              "    }\n",
              "</style>\n",
              "<table border=\"1\" class=\"dataframe\">\n",
              "  <thead>\n",
              "    <tr style=\"text-align: right;\">\n",
              "      <th></th>\n",
              "      <th>title</th>\n",
              "      <th>text</th>\n",
              "      <th>subject</th>\n",
              "      <th>date</th>\n",
              "      <th>news_type</th>\n",
              "    </tr>\n",
              "  </thead>\n",
              "  <tbody>\n",
              "    <tr>\n",
              "      <th>21412</th>\n",
              "      <td>'Fully committed' NATO backs new U.S. approach...</td>\n",
              "      <td>BRUSSELS (Reuters) - NATO allies on Tuesday we...</td>\n",
              "      <td>worldnews</td>\n",
              "      <td>August 22, 2017</td>\n",
              "      <td>1</td>\n",
              "    </tr>\n",
              "    <tr>\n",
              "      <th>21413</th>\n",
              "      <td>LexisNexis withdrew two products from Chinese ...</td>\n",
              "      <td>LONDON (Reuters) - LexisNexis, a provider of l...</td>\n",
              "      <td>worldnews</td>\n",
              "      <td>August 22, 2017</td>\n",
              "      <td>1</td>\n",
              "    </tr>\n",
              "    <tr>\n",
              "      <th>21414</th>\n",
              "      <td>Minsk cultural hub becomes haven from authorities</td>\n",
              "      <td>MINSK (Reuters) - In the shadow of disused Sov...</td>\n",
              "      <td>worldnews</td>\n",
              "      <td>August 22, 2017</td>\n",
              "      <td>1</td>\n",
              "    </tr>\n",
              "    <tr>\n",
              "      <th>21415</th>\n",
              "      <td>Vatican upbeat on possibility of Pope Francis ...</td>\n",
              "      <td>MOSCOW (Reuters) - Vatican Secretary of State ...</td>\n",
              "      <td>worldnews</td>\n",
              "      <td>August 22, 2017</td>\n",
              "      <td>1</td>\n",
              "    </tr>\n",
              "    <tr>\n",
              "      <th>21416</th>\n",
              "      <td>Indonesia to buy $1.14 billion worth of Russia...</td>\n",
              "      <td>JAKARTA (Reuters) - Indonesia will buy 11 Sukh...</td>\n",
              "      <td>worldnews</td>\n",
              "      <td>August 22, 2017</td>\n",
              "      <td>1</td>\n",
              "    </tr>\n",
              "  </tbody>\n",
              "</table>\n",
              "</div>\n",
              "      <button class=\"colab-df-convert\" onclick=\"convertToInteractive('df-79f8dc2e-4e81-44d5-a2a3-95bee18a3d13')\"\n",
              "              title=\"Convert this dataframe to an interactive table.\"\n",
              "              style=\"display:none;\">\n",
              "        \n",
              "  <svg xmlns=\"http://www.w3.org/2000/svg\" height=\"24px\"viewBox=\"0 0 24 24\"\n",
              "       width=\"24px\">\n",
              "    <path d=\"M0 0h24v24H0V0z\" fill=\"none\"/>\n",
              "    <path d=\"M18.56 5.44l.94 2.06.94-2.06 2.06-.94-2.06-.94-.94-2.06-.94 2.06-2.06.94zm-11 1L8.5 8.5l.94-2.06 2.06-.94-2.06-.94L8.5 2.5l-.94 2.06-2.06.94zm10 10l.94 2.06.94-2.06 2.06-.94-2.06-.94-.94-2.06-.94 2.06-2.06.94z\"/><path d=\"M17.41 7.96l-1.37-1.37c-.4-.4-.92-.59-1.43-.59-.52 0-1.04.2-1.43.59L10.3 9.45l-7.72 7.72c-.78.78-.78 2.05 0 2.83L4 21.41c.39.39.9.59 1.41.59.51 0 1.02-.2 1.41-.59l7.78-7.78 2.81-2.81c.8-.78.8-2.07 0-2.86zM5.41 20L4 18.59l7.72-7.72 1.47 1.35L5.41 20z\"/>\n",
              "  </svg>\n",
              "      </button>\n",
              "      \n",
              "  <style>\n",
              "    .colab-df-container {\n",
              "      display:flex;\n",
              "      flex-wrap:wrap;\n",
              "      gap: 12px;\n",
              "    }\n",
              "\n",
              "    .colab-df-convert {\n",
              "      background-color: #E8F0FE;\n",
              "      border: none;\n",
              "      border-radius: 50%;\n",
              "      cursor: pointer;\n",
              "      display: none;\n",
              "      fill: #1967D2;\n",
              "      height: 32px;\n",
              "      padding: 0 0 0 0;\n",
              "      width: 32px;\n",
              "    }\n",
              "\n",
              "    .colab-df-convert:hover {\n",
              "      background-color: #E2EBFA;\n",
              "      box-shadow: 0px 1px 2px rgba(60, 64, 67, 0.3), 0px 1px 3px 1px rgba(60, 64, 67, 0.15);\n",
              "      fill: #174EA6;\n",
              "    }\n",
              "\n",
              "    [theme=dark] .colab-df-convert {\n",
              "      background-color: #3B4455;\n",
              "      fill: #D2E3FC;\n",
              "    }\n",
              "\n",
              "    [theme=dark] .colab-df-convert:hover {\n",
              "      background-color: #434B5C;\n",
              "      box-shadow: 0px 1px 3px 1px rgba(0, 0, 0, 0.15);\n",
              "      filter: drop-shadow(0px 1px 2px rgba(0, 0, 0, 0.3));\n",
              "      fill: #FFFFFF;\n",
              "    }\n",
              "  </style>\n",
              "\n",
              "      <script>\n",
              "        const buttonEl =\n",
              "          document.querySelector('#df-79f8dc2e-4e81-44d5-a2a3-95bee18a3d13 button.colab-df-convert');\n",
              "        buttonEl.style.display =\n",
              "          google.colab.kernel.accessAllowed ? 'block' : 'none';\n",
              "\n",
              "        async function convertToInteractive(key) {\n",
              "          const element = document.querySelector('#df-79f8dc2e-4e81-44d5-a2a3-95bee18a3d13');\n",
              "          const dataTable =\n",
              "            await google.colab.kernel.invokeFunction('convertToInteractive',\n",
              "                                                     [key], {});\n",
              "          if (!dataTable) return;\n",
              "\n",
              "          const docLinkHtml = 'Like what you see? Visit the ' +\n",
              "            '<a target=\"_blank\" href=https://colab.research.google.com/notebooks/data_table.ipynb>data table notebook</a>'\n",
              "            + ' to learn more about interactive tables.';\n",
              "          element.innerHTML = '';\n",
              "          dataTable['output_type'] = 'display_data';\n",
              "          await google.colab.output.renderOutput(dataTable, element);\n",
              "          const docLink = document.createElement('div');\n",
              "          docLink.innerHTML = docLinkHtml;\n",
              "          element.appendChild(docLink);\n",
              "        }\n",
              "      </script>\n",
              "    </div>\n",
              "  </div>\n",
              "  "
            ]
          },
          "metadata": {},
          "execution_count": 10
        }
      ],
      "source": [
        "True_news.tail()"
      ]
    },
    {
      "cell_type": "code",
      "execution_count": 11,
      "id": "21260d39",
      "metadata": {
        "id": "21260d39"
      },
      "outputs": [],
      "source": [
        "Fake_news['news_type'] = 0 #denoting False news by 0'"
      ]
    },
    {
      "cell_type": "code",
      "execution_count": 12,
      "id": "4c9d2c07",
      "metadata": {
        "colab": {
          "base_uri": "https://localhost:8080/",
          "height": 206
        },
        "id": "4c9d2c07",
        "outputId": "9e139090-42b6-4cfb-95c8-be725275ca2d"
      },
      "outputs": [
        {
          "output_type": "execute_result",
          "data": {
            "text/plain": [
              "                                               title  \\\n",
              "0   Donald Trump Sends Out Embarrassing New Year’...   \n",
              "1   Drunk Bragging Trump Staffer Started Russian ...   \n",
              "2   Sheriff David Clarke Becomes An Internet Joke...   \n",
              "3   Trump Is So Obsessed He Even Has Obama’s Name...   \n",
              "4   Pope Francis Just Called Out Donald Trump Dur...   \n",
              "\n",
              "                                                text subject  \\\n",
              "0  Donald Trump just couldn t wish all Americans ...    News   \n",
              "1  House Intelligence Committee Chairman Devin Nu...    News   \n",
              "2  On Friday, it was revealed that former Milwauk...    News   \n",
              "3  On Christmas day, Donald Trump announced that ...    News   \n",
              "4  Pope Francis used his annual Christmas Day mes...    News   \n",
              "\n",
              "                date  news_type  \n",
              "0  December 31, 2017          0  \n",
              "1  December 31, 2017          0  \n",
              "2  December 30, 2017          0  \n",
              "3  December 29, 2017          0  \n",
              "4  December 25, 2017          0  "
            ],
            "text/html": [
              "\n",
              "  <div id=\"df-2c77f34d-ec91-4fda-9fb0-9b837d2add1a\">\n",
              "    <div class=\"colab-df-container\">\n",
              "      <div>\n",
              "<style scoped>\n",
              "    .dataframe tbody tr th:only-of-type {\n",
              "        vertical-align: middle;\n",
              "    }\n",
              "\n",
              "    .dataframe tbody tr th {\n",
              "        vertical-align: top;\n",
              "    }\n",
              "\n",
              "    .dataframe thead th {\n",
              "        text-align: right;\n",
              "    }\n",
              "</style>\n",
              "<table border=\"1\" class=\"dataframe\">\n",
              "  <thead>\n",
              "    <tr style=\"text-align: right;\">\n",
              "      <th></th>\n",
              "      <th>title</th>\n",
              "      <th>text</th>\n",
              "      <th>subject</th>\n",
              "      <th>date</th>\n",
              "      <th>news_type</th>\n",
              "    </tr>\n",
              "  </thead>\n",
              "  <tbody>\n",
              "    <tr>\n",
              "      <th>0</th>\n",
              "      <td>Donald Trump Sends Out Embarrassing New Year’...</td>\n",
              "      <td>Donald Trump just couldn t wish all Americans ...</td>\n",
              "      <td>News</td>\n",
              "      <td>December 31, 2017</td>\n",
              "      <td>0</td>\n",
              "    </tr>\n",
              "    <tr>\n",
              "      <th>1</th>\n",
              "      <td>Drunk Bragging Trump Staffer Started Russian ...</td>\n",
              "      <td>House Intelligence Committee Chairman Devin Nu...</td>\n",
              "      <td>News</td>\n",
              "      <td>December 31, 2017</td>\n",
              "      <td>0</td>\n",
              "    </tr>\n",
              "    <tr>\n",
              "      <th>2</th>\n",
              "      <td>Sheriff David Clarke Becomes An Internet Joke...</td>\n",
              "      <td>On Friday, it was revealed that former Milwauk...</td>\n",
              "      <td>News</td>\n",
              "      <td>December 30, 2017</td>\n",
              "      <td>0</td>\n",
              "    </tr>\n",
              "    <tr>\n",
              "      <th>3</th>\n",
              "      <td>Trump Is So Obsessed He Even Has Obama’s Name...</td>\n",
              "      <td>On Christmas day, Donald Trump announced that ...</td>\n",
              "      <td>News</td>\n",
              "      <td>December 29, 2017</td>\n",
              "      <td>0</td>\n",
              "    </tr>\n",
              "    <tr>\n",
              "      <th>4</th>\n",
              "      <td>Pope Francis Just Called Out Donald Trump Dur...</td>\n",
              "      <td>Pope Francis used his annual Christmas Day mes...</td>\n",
              "      <td>News</td>\n",
              "      <td>December 25, 2017</td>\n",
              "      <td>0</td>\n",
              "    </tr>\n",
              "  </tbody>\n",
              "</table>\n",
              "</div>\n",
              "      <button class=\"colab-df-convert\" onclick=\"convertToInteractive('df-2c77f34d-ec91-4fda-9fb0-9b837d2add1a')\"\n",
              "              title=\"Convert this dataframe to an interactive table.\"\n",
              "              style=\"display:none;\">\n",
              "        \n",
              "  <svg xmlns=\"http://www.w3.org/2000/svg\" height=\"24px\"viewBox=\"0 0 24 24\"\n",
              "       width=\"24px\">\n",
              "    <path d=\"M0 0h24v24H0V0z\" fill=\"none\"/>\n",
              "    <path d=\"M18.56 5.44l.94 2.06.94-2.06 2.06-.94-2.06-.94-.94-2.06-.94 2.06-2.06.94zm-11 1L8.5 8.5l.94-2.06 2.06-.94-2.06-.94L8.5 2.5l-.94 2.06-2.06.94zm10 10l.94 2.06.94-2.06 2.06-.94-2.06-.94-.94-2.06-.94 2.06-2.06.94z\"/><path d=\"M17.41 7.96l-1.37-1.37c-.4-.4-.92-.59-1.43-.59-.52 0-1.04.2-1.43.59L10.3 9.45l-7.72 7.72c-.78.78-.78 2.05 0 2.83L4 21.41c.39.39.9.59 1.41.59.51 0 1.02-.2 1.41-.59l7.78-7.78 2.81-2.81c.8-.78.8-2.07 0-2.86zM5.41 20L4 18.59l7.72-7.72 1.47 1.35L5.41 20z\"/>\n",
              "  </svg>\n",
              "      </button>\n",
              "      \n",
              "  <style>\n",
              "    .colab-df-container {\n",
              "      display:flex;\n",
              "      flex-wrap:wrap;\n",
              "      gap: 12px;\n",
              "    }\n",
              "\n",
              "    .colab-df-convert {\n",
              "      background-color: #E8F0FE;\n",
              "      border: none;\n",
              "      border-radius: 50%;\n",
              "      cursor: pointer;\n",
              "      display: none;\n",
              "      fill: #1967D2;\n",
              "      height: 32px;\n",
              "      padding: 0 0 0 0;\n",
              "      width: 32px;\n",
              "    }\n",
              "\n",
              "    .colab-df-convert:hover {\n",
              "      background-color: #E2EBFA;\n",
              "      box-shadow: 0px 1px 2px rgba(60, 64, 67, 0.3), 0px 1px 3px 1px rgba(60, 64, 67, 0.15);\n",
              "      fill: #174EA6;\n",
              "    }\n",
              "\n",
              "    [theme=dark] .colab-df-convert {\n",
              "      background-color: #3B4455;\n",
              "      fill: #D2E3FC;\n",
              "    }\n",
              "\n",
              "    [theme=dark] .colab-df-convert:hover {\n",
              "      background-color: #434B5C;\n",
              "      box-shadow: 0px 1px 3px 1px rgba(0, 0, 0, 0.15);\n",
              "      filter: drop-shadow(0px 1px 2px rgba(0, 0, 0, 0.3));\n",
              "      fill: #FFFFFF;\n",
              "    }\n",
              "  </style>\n",
              "\n",
              "      <script>\n",
              "        const buttonEl =\n",
              "          document.querySelector('#df-2c77f34d-ec91-4fda-9fb0-9b837d2add1a button.colab-df-convert');\n",
              "        buttonEl.style.display =\n",
              "          google.colab.kernel.accessAllowed ? 'block' : 'none';\n",
              "\n",
              "        async function convertToInteractive(key) {\n",
              "          const element = document.querySelector('#df-2c77f34d-ec91-4fda-9fb0-9b837d2add1a');\n",
              "          const dataTable =\n",
              "            await google.colab.kernel.invokeFunction('convertToInteractive',\n",
              "                                                     [key], {});\n",
              "          if (!dataTable) return;\n",
              "\n",
              "          const docLinkHtml = 'Like what you see? Visit the ' +\n",
              "            '<a target=\"_blank\" href=https://colab.research.google.com/notebooks/data_table.ipynb>data table notebook</a>'\n",
              "            + ' to learn more about interactive tables.';\n",
              "          element.innerHTML = '';\n",
              "          dataTable['output_type'] = 'display_data';\n",
              "          await google.colab.output.renderOutput(dataTable, element);\n",
              "          const docLink = document.createElement('div');\n",
              "          docLink.innerHTML = docLinkHtml;\n",
              "          element.appendChild(docLink);\n",
              "        }\n",
              "      </script>\n",
              "    </div>\n",
              "  </div>\n",
              "  "
            ]
          },
          "metadata": {},
          "execution_count": 12
        }
      ],
      "source": [
        "Fake_news.head()"
      ]
    },
    {
      "cell_type": "code",
      "execution_count": 13,
      "id": "de0461db",
      "metadata": {
        "colab": {
          "base_uri": "https://localhost:8080/",
          "height": 206
        },
        "id": "de0461db",
        "outputId": "e8c584b6-a703-4ac6-e364-6b7e297b6f7f"
      },
      "outputs": [
        {
          "output_type": "execute_result",
          "data": {
            "text/plain": [
              "                                               title  \\\n",
              "0  As U.S. budget fight looms, Republicans flip t...   \n",
              "1  U.S. military to accept transgender recruits o...   \n",
              "2  Senior U.S. Republican senator: 'Let Mr. Muell...   \n",
              "3  FBI Russia probe helped by Australian diplomat...   \n",
              "4  Trump wants Postal Service to charge 'much mor...   \n",
              "\n",
              "                                                text       subject  \\\n",
              "0  WASHINGTON (Reuters) - The head of a conservat...  politicsNews   \n",
              "1  WASHINGTON (Reuters) - Transgender people will...  politicsNews   \n",
              "2  WASHINGTON (Reuters) - The special counsel inv...  politicsNews   \n",
              "3  WASHINGTON (Reuters) - Trump campaign adviser ...  politicsNews   \n",
              "4  SEATTLE/WASHINGTON (Reuters) - President Donal...  politicsNews   \n",
              "\n",
              "                 date  news_type  \n",
              "0  December 31, 2017           1  \n",
              "1  December 29, 2017           1  \n",
              "2  December 31, 2017           1  \n",
              "3  December 30, 2017           1  \n",
              "4  December 29, 2017           1  "
            ],
            "text/html": [
              "\n",
              "  <div id=\"df-e6d6bfd6-4fd3-4e2d-aa36-bc5b4dd6b131\">\n",
              "    <div class=\"colab-df-container\">\n",
              "      <div>\n",
              "<style scoped>\n",
              "    .dataframe tbody tr th:only-of-type {\n",
              "        vertical-align: middle;\n",
              "    }\n",
              "\n",
              "    .dataframe tbody tr th {\n",
              "        vertical-align: top;\n",
              "    }\n",
              "\n",
              "    .dataframe thead th {\n",
              "        text-align: right;\n",
              "    }\n",
              "</style>\n",
              "<table border=\"1\" class=\"dataframe\">\n",
              "  <thead>\n",
              "    <tr style=\"text-align: right;\">\n",
              "      <th></th>\n",
              "      <th>title</th>\n",
              "      <th>text</th>\n",
              "      <th>subject</th>\n",
              "      <th>date</th>\n",
              "      <th>news_type</th>\n",
              "    </tr>\n",
              "  </thead>\n",
              "  <tbody>\n",
              "    <tr>\n",
              "      <th>0</th>\n",
              "      <td>As U.S. budget fight looms, Republicans flip t...</td>\n",
              "      <td>WASHINGTON (Reuters) - The head of a conservat...</td>\n",
              "      <td>politicsNews</td>\n",
              "      <td>December 31, 2017</td>\n",
              "      <td>1</td>\n",
              "    </tr>\n",
              "    <tr>\n",
              "      <th>1</th>\n",
              "      <td>U.S. military to accept transgender recruits o...</td>\n",
              "      <td>WASHINGTON (Reuters) - Transgender people will...</td>\n",
              "      <td>politicsNews</td>\n",
              "      <td>December 29, 2017</td>\n",
              "      <td>1</td>\n",
              "    </tr>\n",
              "    <tr>\n",
              "      <th>2</th>\n",
              "      <td>Senior U.S. Republican senator: 'Let Mr. Muell...</td>\n",
              "      <td>WASHINGTON (Reuters) - The special counsel inv...</td>\n",
              "      <td>politicsNews</td>\n",
              "      <td>December 31, 2017</td>\n",
              "      <td>1</td>\n",
              "    </tr>\n",
              "    <tr>\n",
              "      <th>3</th>\n",
              "      <td>FBI Russia probe helped by Australian diplomat...</td>\n",
              "      <td>WASHINGTON (Reuters) - Trump campaign adviser ...</td>\n",
              "      <td>politicsNews</td>\n",
              "      <td>December 30, 2017</td>\n",
              "      <td>1</td>\n",
              "    </tr>\n",
              "    <tr>\n",
              "      <th>4</th>\n",
              "      <td>Trump wants Postal Service to charge 'much mor...</td>\n",
              "      <td>SEATTLE/WASHINGTON (Reuters) - President Donal...</td>\n",
              "      <td>politicsNews</td>\n",
              "      <td>December 29, 2017</td>\n",
              "      <td>1</td>\n",
              "    </tr>\n",
              "  </tbody>\n",
              "</table>\n",
              "</div>\n",
              "      <button class=\"colab-df-convert\" onclick=\"convertToInteractive('df-e6d6bfd6-4fd3-4e2d-aa36-bc5b4dd6b131')\"\n",
              "              title=\"Convert this dataframe to an interactive table.\"\n",
              "              style=\"display:none;\">\n",
              "        \n",
              "  <svg xmlns=\"http://www.w3.org/2000/svg\" height=\"24px\"viewBox=\"0 0 24 24\"\n",
              "       width=\"24px\">\n",
              "    <path d=\"M0 0h24v24H0V0z\" fill=\"none\"/>\n",
              "    <path d=\"M18.56 5.44l.94 2.06.94-2.06 2.06-.94-2.06-.94-.94-2.06-.94 2.06-2.06.94zm-11 1L8.5 8.5l.94-2.06 2.06-.94-2.06-.94L8.5 2.5l-.94 2.06-2.06.94zm10 10l.94 2.06.94-2.06 2.06-.94-2.06-.94-.94-2.06-.94 2.06-2.06.94z\"/><path d=\"M17.41 7.96l-1.37-1.37c-.4-.4-.92-.59-1.43-.59-.52 0-1.04.2-1.43.59L10.3 9.45l-7.72 7.72c-.78.78-.78 2.05 0 2.83L4 21.41c.39.39.9.59 1.41.59.51 0 1.02-.2 1.41-.59l7.78-7.78 2.81-2.81c.8-.78.8-2.07 0-2.86zM5.41 20L4 18.59l7.72-7.72 1.47 1.35L5.41 20z\"/>\n",
              "  </svg>\n",
              "      </button>\n",
              "      \n",
              "  <style>\n",
              "    .colab-df-container {\n",
              "      display:flex;\n",
              "      flex-wrap:wrap;\n",
              "      gap: 12px;\n",
              "    }\n",
              "\n",
              "    .colab-df-convert {\n",
              "      background-color: #E8F0FE;\n",
              "      border: none;\n",
              "      border-radius: 50%;\n",
              "      cursor: pointer;\n",
              "      display: none;\n",
              "      fill: #1967D2;\n",
              "      height: 32px;\n",
              "      padding: 0 0 0 0;\n",
              "      width: 32px;\n",
              "    }\n",
              "\n",
              "    .colab-df-convert:hover {\n",
              "      background-color: #E2EBFA;\n",
              "      box-shadow: 0px 1px 2px rgba(60, 64, 67, 0.3), 0px 1px 3px 1px rgba(60, 64, 67, 0.15);\n",
              "      fill: #174EA6;\n",
              "    }\n",
              "\n",
              "    [theme=dark] .colab-df-convert {\n",
              "      background-color: #3B4455;\n",
              "      fill: #D2E3FC;\n",
              "    }\n",
              "\n",
              "    [theme=dark] .colab-df-convert:hover {\n",
              "      background-color: #434B5C;\n",
              "      box-shadow: 0px 1px 3px 1px rgba(0, 0, 0, 0.15);\n",
              "      filter: drop-shadow(0px 1px 2px rgba(0, 0, 0, 0.3));\n",
              "      fill: #FFFFFF;\n",
              "    }\n",
              "  </style>\n",
              "\n",
              "      <script>\n",
              "        const buttonEl =\n",
              "          document.querySelector('#df-e6d6bfd6-4fd3-4e2d-aa36-bc5b4dd6b131 button.colab-df-convert');\n",
              "        buttonEl.style.display =\n",
              "          google.colab.kernel.accessAllowed ? 'block' : 'none';\n",
              "\n",
              "        async function convertToInteractive(key) {\n",
              "          const element = document.querySelector('#df-e6d6bfd6-4fd3-4e2d-aa36-bc5b4dd6b131');\n",
              "          const dataTable =\n",
              "            await google.colab.kernel.invokeFunction('convertToInteractive',\n",
              "                                                     [key], {});\n",
              "          if (!dataTable) return;\n",
              "\n",
              "          const docLinkHtml = 'Like what you see? Visit the ' +\n",
              "            '<a target=\"_blank\" href=https://colab.research.google.com/notebooks/data_table.ipynb>data table notebook</a>'\n",
              "            + ' to learn more about interactive tables.';\n",
              "          element.innerHTML = '';\n",
              "          dataTable['output_type'] = 'display_data';\n",
              "          await google.colab.output.renderOutput(dataTable, element);\n",
              "          const docLink = document.createElement('div');\n",
              "          docLink.innerHTML = docLinkHtml;\n",
              "          element.appendChild(docLink);\n",
              "        }\n",
              "      </script>\n",
              "    </div>\n",
              "  </div>\n",
              "  "
            ]
          },
          "metadata": {},
          "execution_count": 13
        }
      ],
      "source": [
        "df = pd.concat([True_news,Fake_news],axis = 0) # combining both data sets\n",
        "df.head()"
      ]
    },
    {
      "cell_type": "code",
      "source": [
        "df.tail()"
      ],
      "metadata": {
        "colab": {
          "base_uri": "https://localhost:8080/",
          "height": 206
        },
        "id": "ndXICHSgLx7P",
        "outputId": "cd330696-3971-44d8-9373-eaad1e8ac3b3"
      },
      "id": "ndXICHSgLx7P",
      "execution_count": 14,
      "outputs": [
        {
          "output_type": "execute_result",
          "data": {
            "text/plain": [
              "                                                   title  \\\n",
              "23476  McPain: John McCain Furious That Iran Treated ...   \n",
              "23477  JUSTICE? Yahoo Settles E-mail Privacy Class-ac...   \n",
              "23478  Sunnistan: US and Allied ‘Safe Zone’ Plan to T...   \n",
              "23479  How to Blow $700 Million: Al Jazeera America F...   \n",
              "23480  10 U.S. Navy Sailors Held by Iranian Military ...   \n",
              "\n",
              "                                                    text      subject  \\\n",
              "23476  21st Century Wire says As 21WIRE reported earl...  Middle-east   \n",
              "23477  21st Century Wire says It s a familiar theme. ...  Middle-east   \n",
              "23478  Patrick Henningsen  21st Century WireRemember ...  Middle-east   \n",
              "23479  21st Century Wire says Al Jazeera America will...  Middle-east   \n",
              "23480  21st Century Wire says As 21WIRE predicted in ...  Middle-east   \n",
              "\n",
              "                   date  news_type  \n",
              "23476  January 16, 2016          0  \n",
              "23477  January 16, 2016          0  \n",
              "23478  January 15, 2016          0  \n",
              "23479  January 14, 2016          0  \n",
              "23480  January 12, 2016          0  "
            ],
            "text/html": [
              "\n",
              "  <div id=\"df-42867788-3b30-4a76-9ab9-42ccd0f047df\">\n",
              "    <div class=\"colab-df-container\">\n",
              "      <div>\n",
              "<style scoped>\n",
              "    .dataframe tbody tr th:only-of-type {\n",
              "        vertical-align: middle;\n",
              "    }\n",
              "\n",
              "    .dataframe tbody tr th {\n",
              "        vertical-align: top;\n",
              "    }\n",
              "\n",
              "    .dataframe thead th {\n",
              "        text-align: right;\n",
              "    }\n",
              "</style>\n",
              "<table border=\"1\" class=\"dataframe\">\n",
              "  <thead>\n",
              "    <tr style=\"text-align: right;\">\n",
              "      <th></th>\n",
              "      <th>title</th>\n",
              "      <th>text</th>\n",
              "      <th>subject</th>\n",
              "      <th>date</th>\n",
              "      <th>news_type</th>\n",
              "    </tr>\n",
              "  </thead>\n",
              "  <tbody>\n",
              "    <tr>\n",
              "      <th>23476</th>\n",
              "      <td>McPain: John McCain Furious That Iran Treated ...</td>\n",
              "      <td>21st Century Wire says As 21WIRE reported earl...</td>\n",
              "      <td>Middle-east</td>\n",
              "      <td>January 16, 2016</td>\n",
              "      <td>0</td>\n",
              "    </tr>\n",
              "    <tr>\n",
              "      <th>23477</th>\n",
              "      <td>JUSTICE? Yahoo Settles E-mail Privacy Class-ac...</td>\n",
              "      <td>21st Century Wire says It s a familiar theme. ...</td>\n",
              "      <td>Middle-east</td>\n",
              "      <td>January 16, 2016</td>\n",
              "      <td>0</td>\n",
              "    </tr>\n",
              "    <tr>\n",
              "      <th>23478</th>\n",
              "      <td>Sunnistan: US and Allied ‘Safe Zone’ Plan to T...</td>\n",
              "      <td>Patrick Henningsen  21st Century WireRemember ...</td>\n",
              "      <td>Middle-east</td>\n",
              "      <td>January 15, 2016</td>\n",
              "      <td>0</td>\n",
              "    </tr>\n",
              "    <tr>\n",
              "      <th>23479</th>\n",
              "      <td>How to Blow $700 Million: Al Jazeera America F...</td>\n",
              "      <td>21st Century Wire says Al Jazeera America will...</td>\n",
              "      <td>Middle-east</td>\n",
              "      <td>January 14, 2016</td>\n",
              "      <td>0</td>\n",
              "    </tr>\n",
              "    <tr>\n",
              "      <th>23480</th>\n",
              "      <td>10 U.S. Navy Sailors Held by Iranian Military ...</td>\n",
              "      <td>21st Century Wire says As 21WIRE predicted in ...</td>\n",
              "      <td>Middle-east</td>\n",
              "      <td>January 12, 2016</td>\n",
              "      <td>0</td>\n",
              "    </tr>\n",
              "  </tbody>\n",
              "</table>\n",
              "</div>\n",
              "      <button class=\"colab-df-convert\" onclick=\"convertToInteractive('df-42867788-3b30-4a76-9ab9-42ccd0f047df')\"\n",
              "              title=\"Convert this dataframe to an interactive table.\"\n",
              "              style=\"display:none;\">\n",
              "        \n",
              "  <svg xmlns=\"http://www.w3.org/2000/svg\" height=\"24px\"viewBox=\"0 0 24 24\"\n",
              "       width=\"24px\">\n",
              "    <path d=\"M0 0h24v24H0V0z\" fill=\"none\"/>\n",
              "    <path d=\"M18.56 5.44l.94 2.06.94-2.06 2.06-.94-2.06-.94-.94-2.06-.94 2.06-2.06.94zm-11 1L8.5 8.5l.94-2.06 2.06-.94-2.06-.94L8.5 2.5l-.94 2.06-2.06.94zm10 10l.94 2.06.94-2.06 2.06-.94-2.06-.94-.94-2.06-.94 2.06-2.06.94z\"/><path d=\"M17.41 7.96l-1.37-1.37c-.4-.4-.92-.59-1.43-.59-.52 0-1.04.2-1.43.59L10.3 9.45l-7.72 7.72c-.78.78-.78 2.05 0 2.83L4 21.41c.39.39.9.59 1.41.59.51 0 1.02-.2 1.41-.59l7.78-7.78 2.81-2.81c.8-.78.8-2.07 0-2.86zM5.41 20L4 18.59l7.72-7.72 1.47 1.35L5.41 20z\"/>\n",
              "  </svg>\n",
              "      </button>\n",
              "      \n",
              "  <style>\n",
              "    .colab-df-container {\n",
              "      display:flex;\n",
              "      flex-wrap:wrap;\n",
              "      gap: 12px;\n",
              "    }\n",
              "\n",
              "    .colab-df-convert {\n",
              "      background-color: #E8F0FE;\n",
              "      border: none;\n",
              "      border-radius: 50%;\n",
              "      cursor: pointer;\n",
              "      display: none;\n",
              "      fill: #1967D2;\n",
              "      height: 32px;\n",
              "      padding: 0 0 0 0;\n",
              "      width: 32px;\n",
              "    }\n",
              "\n",
              "    .colab-df-convert:hover {\n",
              "      background-color: #E2EBFA;\n",
              "      box-shadow: 0px 1px 2px rgba(60, 64, 67, 0.3), 0px 1px 3px 1px rgba(60, 64, 67, 0.15);\n",
              "      fill: #174EA6;\n",
              "    }\n",
              "\n",
              "    [theme=dark] .colab-df-convert {\n",
              "      background-color: #3B4455;\n",
              "      fill: #D2E3FC;\n",
              "    }\n",
              "\n",
              "    [theme=dark] .colab-df-convert:hover {\n",
              "      background-color: #434B5C;\n",
              "      box-shadow: 0px 1px 3px 1px rgba(0, 0, 0, 0.15);\n",
              "      filter: drop-shadow(0px 1px 2px rgba(0, 0, 0, 0.3));\n",
              "      fill: #FFFFFF;\n",
              "    }\n",
              "  </style>\n",
              "\n",
              "      <script>\n",
              "        const buttonEl =\n",
              "          document.querySelector('#df-42867788-3b30-4a76-9ab9-42ccd0f047df button.colab-df-convert');\n",
              "        buttonEl.style.display =\n",
              "          google.colab.kernel.accessAllowed ? 'block' : 'none';\n",
              "\n",
              "        async function convertToInteractive(key) {\n",
              "          const element = document.querySelector('#df-42867788-3b30-4a76-9ab9-42ccd0f047df');\n",
              "          const dataTable =\n",
              "            await google.colab.kernel.invokeFunction('convertToInteractive',\n",
              "                                                     [key], {});\n",
              "          if (!dataTable) return;\n",
              "\n",
              "          const docLinkHtml = 'Like what you see? Visit the ' +\n",
              "            '<a target=\"_blank\" href=https://colab.research.google.com/notebooks/data_table.ipynb>data table notebook</a>'\n",
              "            + ' to learn more about interactive tables.';\n",
              "          element.innerHTML = '';\n",
              "          dataTable['output_type'] = 'display_data';\n",
              "          await google.colab.output.renderOutput(dataTable, element);\n",
              "          const docLink = document.createElement('div');\n",
              "          docLink.innerHTML = docLinkHtml;\n",
              "          element.appendChild(docLink);\n",
              "        }\n",
              "      </script>\n",
              "    </div>\n",
              "  </div>\n",
              "  "
            ]
          },
          "metadata": {},
          "execution_count": 14
        }
      ]
    },
    {
      "cell_type": "code",
      "execution_count": 15,
      "id": "bd77bfd8",
      "metadata": {
        "colab": {
          "base_uri": "https://localhost:8080/"
        },
        "id": "bd77bfd8",
        "outputId": "0cf61de5-ee7b-4dd1-8131-ec6955371e06"
      },
      "outputs": [
        {
          "output_type": "stream",
          "name": "stdout",
          "text": [
            "<class 'pandas.core.frame.DataFrame'>\n",
            "Int64Index: 44898 entries, 0 to 23480\n",
            "Data columns (total 5 columns):\n",
            " #   Column     Non-Null Count  Dtype \n",
            "---  ------     --------------  ----- \n",
            " 0   title      44898 non-null  object\n",
            " 1   text       44898 non-null  object\n",
            " 2   subject    44898 non-null  object\n",
            " 3   date       44898 non-null  object\n",
            " 4   news_type  44898 non-null  int64 \n",
            "dtypes: int64(1), object(4)\n",
            "memory usage: 2.1+ MB\n"
          ]
        }
      ],
      "source": [
        "df.info()"
      ]
    },
    {
      "cell_type": "code",
      "execution_count": 16,
      "id": "fbd64d07",
      "metadata": {
        "colab": {
          "base_uri": "https://localhost:8080/",
          "height": 206
        },
        "id": "fbd64d07",
        "outputId": "29c30d01-05b6-4281-969f-d1e178f09e15"
      },
      "outputs": [
        {
          "output_type": "execute_result",
          "data": {
            "text/plain": [
              "                                                   title  \\\n",
              "23476  McPain: John McCain Furious That Iran Treated ...   \n",
              "23477  JUSTICE? Yahoo Settles E-mail Privacy Class-ac...   \n",
              "23478  Sunnistan: US and Allied ‘Safe Zone’ Plan to T...   \n",
              "23479  How to Blow $700 Million: Al Jazeera America F...   \n",
              "23480  10 U.S. Navy Sailors Held by Iranian Military ...   \n",
              "\n",
              "                                                    text      subject  \\\n",
              "23476  21st Century Wire says As 21WIRE reported earl...  Middle-east   \n",
              "23477  21st Century Wire says It s a familiar theme. ...  Middle-east   \n",
              "23478  Patrick Henningsen  21st Century WireRemember ...  Middle-east   \n",
              "23479  21st Century Wire says Al Jazeera America will...  Middle-east   \n",
              "23480  21st Century Wire says As 21WIRE predicted in ...  Middle-east   \n",
              "\n",
              "                   date  news_type  \n",
              "23476  January 16, 2016          0  \n",
              "23477  January 16, 2016          0  \n",
              "23478  January 15, 2016          0  \n",
              "23479  January 14, 2016          0  \n",
              "23480  January 12, 2016          0  "
            ],
            "text/html": [
              "\n",
              "  <div id=\"df-0362c859-4d22-43c4-81de-676739354508\">\n",
              "    <div class=\"colab-df-container\">\n",
              "      <div>\n",
              "<style scoped>\n",
              "    .dataframe tbody tr th:only-of-type {\n",
              "        vertical-align: middle;\n",
              "    }\n",
              "\n",
              "    .dataframe tbody tr th {\n",
              "        vertical-align: top;\n",
              "    }\n",
              "\n",
              "    .dataframe thead th {\n",
              "        text-align: right;\n",
              "    }\n",
              "</style>\n",
              "<table border=\"1\" class=\"dataframe\">\n",
              "  <thead>\n",
              "    <tr style=\"text-align: right;\">\n",
              "      <th></th>\n",
              "      <th>title</th>\n",
              "      <th>text</th>\n",
              "      <th>subject</th>\n",
              "      <th>date</th>\n",
              "      <th>news_type</th>\n",
              "    </tr>\n",
              "  </thead>\n",
              "  <tbody>\n",
              "    <tr>\n",
              "      <th>23476</th>\n",
              "      <td>McPain: John McCain Furious That Iran Treated ...</td>\n",
              "      <td>21st Century Wire says As 21WIRE reported earl...</td>\n",
              "      <td>Middle-east</td>\n",
              "      <td>January 16, 2016</td>\n",
              "      <td>0</td>\n",
              "    </tr>\n",
              "    <tr>\n",
              "      <th>23477</th>\n",
              "      <td>JUSTICE? Yahoo Settles E-mail Privacy Class-ac...</td>\n",
              "      <td>21st Century Wire says It s a familiar theme. ...</td>\n",
              "      <td>Middle-east</td>\n",
              "      <td>January 16, 2016</td>\n",
              "      <td>0</td>\n",
              "    </tr>\n",
              "    <tr>\n",
              "      <th>23478</th>\n",
              "      <td>Sunnistan: US and Allied ‘Safe Zone’ Plan to T...</td>\n",
              "      <td>Patrick Henningsen  21st Century WireRemember ...</td>\n",
              "      <td>Middle-east</td>\n",
              "      <td>January 15, 2016</td>\n",
              "      <td>0</td>\n",
              "    </tr>\n",
              "    <tr>\n",
              "      <th>23479</th>\n",
              "      <td>How to Blow $700 Million: Al Jazeera America F...</td>\n",
              "      <td>21st Century Wire says Al Jazeera America will...</td>\n",
              "      <td>Middle-east</td>\n",
              "      <td>January 14, 2016</td>\n",
              "      <td>0</td>\n",
              "    </tr>\n",
              "    <tr>\n",
              "      <th>23480</th>\n",
              "      <td>10 U.S. Navy Sailors Held by Iranian Military ...</td>\n",
              "      <td>21st Century Wire says As 21WIRE predicted in ...</td>\n",
              "      <td>Middle-east</td>\n",
              "      <td>January 12, 2016</td>\n",
              "      <td>0</td>\n",
              "    </tr>\n",
              "  </tbody>\n",
              "</table>\n",
              "</div>\n",
              "      <button class=\"colab-df-convert\" onclick=\"convertToInteractive('df-0362c859-4d22-43c4-81de-676739354508')\"\n",
              "              title=\"Convert this dataframe to an interactive table.\"\n",
              "              style=\"display:none;\">\n",
              "        \n",
              "  <svg xmlns=\"http://www.w3.org/2000/svg\" height=\"24px\"viewBox=\"0 0 24 24\"\n",
              "       width=\"24px\">\n",
              "    <path d=\"M0 0h24v24H0V0z\" fill=\"none\"/>\n",
              "    <path d=\"M18.56 5.44l.94 2.06.94-2.06 2.06-.94-2.06-.94-.94-2.06-.94 2.06-2.06.94zm-11 1L8.5 8.5l.94-2.06 2.06-.94-2.06-.94L8.5 2.5l-.94 2.06-2.06.94zm10 10l.94 2.06.94-2.06 2.06-.94-2.06-.94-.94-2.06-.94 2.06-2.06.94z\"/><path d=\"M17.41 7.96l-1.37-1.37c-.4-.4-.92-.59-1.43-.59-.52 0-1.04.2-1.43.59L10.3 9.45l-7.72 7.72c-.78.78-.78 2.05 0 2.83L4 21.41c.39.39.9.59 1.41.59.51 0 1.02-.2 1.41-.59l7.78-7.78 2.81-2.81c.8-.78.8-2.07 0-2.86zM5.41 20L4 18.59l7.72-7.72 1.47 1.35L5.41 20z\"/>\n",
              "  </svg>\n",
              "      </button>\n",
              "      \n",
              "  <style>\n",
              "    .colab-df-container {\n",
              "      display:flex;\n",
              "      flex-wrap:wrap;\n",
              "      gap: 12px;\n",
              "    }\n",
              "\n",
              "    .colab-df-convert {\n",
              "      background-color: #E8F0FE;\n",
              "      border: none;\n",
              "      border-radius: 50%;\n",
              "      cursor: pointer;\n",
              "      display: none;\n",
              "      fill: #1967D2;\n",
              "      height: 32px;\n",
              "      padding: 0 0 0 0;\n",
              "      width: 32px;\n",
              "    }\n",
              "\n",
              "    .colab-df-convert:hover {\n",
              "      background-color: #E2EBFA;\n",
              "      box-shadow: 0px 1px 2px rgba(60, 64, 67, 0.3), 0px 1px 3px 1px rgba(60, 64, 67, 0.15);\n",
              "      fill: #174EA6;\n",
              "    }\n",
              "\n",
              "    [theme=dark] .colab-df-convert {\n",
              "      background-color: #3B4455;\n",
              "      fill: #D2E3FC;\n",
              "    }\n",
              "\n",
              "    [theme=dark] .colab-df-convert:hover {\n",
              "      background-color: #434B5C;\n",
              "      box-shadow: 0px 1px 3px 1px rgba(0, 0, 0, 0.15);\n",
              "      filter: drop-shadow(0px 1px 2px rgba(0, 0, 0, 0.3));\n",
              "      fill: #FFFFFF;\n",
              "    }\n",
              "  </style>\n",
              "\n",
              "      <script>\n",
              "        const buttonEl =\n",
              "          document.querySelector('#df-0362c859-4d22-43c4-81de-676739354508 button.colab-df-convert');\n",
              "        buttonEl.style.display =\n",
              "          google.colab.kernel.accessAllowed ? 'block' : 'none';\n",
              "\n",
              "        async function convertToInteractive(key) {\n",
              "          const element = document.querySelector('#df-0362c859-4d22-43c4-81de-676739354508');\n",
              "          const dataTable =\n",
              "            await google.colab.kernel.invokeFunction('convertToInteractive',\n",
              "                                                     [key], {});\n",
              "          if (!dataTable) return;\n",
              "\n",
              "          const docLinkHtml = 'Like what you see? Visit the ' +\n",
              "            '<a target=\"_blank\" href=https://colab.research.google.com/notebooks/data_table.ipynb>data table notebook</a>'\n",
              "            + ' to learn more about interactive tables.';\n",
              "          element.innerHTML = '';\n",
              "          dataTable['output_type'] = 'display_data';\n",
              "          await google.colab.output.renderOutput(dataTable, element);\n",
              "          const docLink = document.createElement('div');\n",
              "          docLink.innerHTML = docLinkHtml;\n",
              "          element.appendChild(docLink);\n",
              "        }\n",
              "      </script>\n",
              "    </div>\n",
              "  </div>\n",
              "  "
            ]
          },
          "metadata": {},
          "execution_count": 16
        }
      ],
      "source": [
        "df.tail()"
      ]
    },
    {
      "cell_type": "code",
      "execution_count": 17,
      "id": "8d0a6da6",
      "metadata": {
        "colab": {
          "base_uri": "https://localhost:8080/"
        },
        "id": "8d0a6da6",
        "outputId": "635c4fa6-a7f2-487e-eebf-9428100d42ee"
      },
      "outputs": [
        {
          "output_type": "execute_result",
          "data": {
            "text/plain": [
              "0    23481\n",
              "1    21417\n",
              "Name: news_type, dtype: int64"
            ]
          },
          "metadata": {},
          "execution_count": 17
        }
      ],
      "source": [
        "df['news_type'].value_counts()"
      ]
    },
    {
      "cell_type": "markdown",
      "id": "ef697fe5",
      "metadata": {
        "id": "ef697fe5"
      },
      "source": [
        "Data is balanced"
      ]
    },
    {
      "cell_type": "code",
      "execution_count": 18,
      "id": "4f96d10f",
      "metadata": {
        "colab": {
          "base_uri": "https://localhost:8080/",
          "height": 280
        },
        "id": "4f96d10f",
        "outputId": "ee7b3d9b-d202-4399-a948-da194ca1ebfb"
      },
      "outputs": [
        {
          "output_type": "display_data",
          "data": {
            "text/plain": [
              "<Figure size 432x288 with 1 Axes>"
            ],
            "image/png": "[encoded data removed]"
          },
          "metadata": {
            "needs_background": "light"
          }
        }
      ],
      "source": [
        "sns.countplot(df['news_type']);"
      ]
    },
    {
      "cell_type": "code",
      "execution_count": 19,
      "id": "5560e9eb",
      "metadata": {
        "colab": {
          "base_uri": "https://localhost:8080/"
        },
        "id": "5560e9eb",
        "outputId": "caf5f598-45fe-4073-e6a1-23f3123ed8f5"
      },
      "outputs": [
        {
          "output_type": "execute_result",
          "data": {
            "text/plain": [
              "politicsNews       11272\n",
              "worldnews          10145\n",
              "News                9050\n",
              "politics            6841\n",
              "left-news           4459\n",
              "Government News     1570\n",
              "US_News              783\n",
              "Middle-east          778\n",
              "Name: subject, dtype: int64"
            ]
          },
          "metadata": {},
          "execution_count": 19
        }
      ],
      "source": [
        "\n",
        "df['subject'].value_counts()"
      ]
    },
    {
      "cell_type": "code",
      "execution_count": 20,
      "id": "4a967ff6",
      "metadata": {
        "colab": {
          "base_uri": "https://localhost:8080/",
          "height": 352
        },
        "id": "4a967ff6",
        "outputId": "d4648aec-2501-433f-ee8a-029cf2d058be"
      },
      "outputs": [
        {
          "output_type": "execute_result",
          "data": {
            "text/plain": [
              "<matplotlib.axes._subplots.AxesSubplot at 0x7f179b378e90>"
            ]
          },
          "metadata": {},
          "execution_count": 20
        },
        {
          "output_type": "display_data",
          "data": {
            "text/plain": [
              "<Figure size 720x360 with 1 Axes>"
            ],
            "image/png": "[encoded data removed]"
          },
          "metadata": {
            "needs_background": "light"
          }
        }
      ],
      "source": [
        "plt.figure(figsize=(10,5))\n",
        "sns.countplot(x = 'subject',hue = 'news_type',data = df)"
      ]
    },
    {
      "cell_type": "code",
      "execution_count": 21,
      "id": "0158eab3",
      "metadata": {
        "colab": {
          "base_uri": "https://localhost:8080/"
        },
        "id": "0158eab3",
        "outputId": "36d5d254-3d36-4ead-903a-cf1f756b2861"
      },
      "outputs": [
        {
          "output_type": "execute_result",
          "data": {
            "text/plain": [
              "title        0\n",
              "text         0\n",
              "subject      0\n",
              "date         0\n",
              "news_type    0\n",
              "dtype: int64"
            ]
          },
          "metadata": {},
          "execution_count": 21
        }
      ],
      "source": [
        "df.isnull().sum()"
      ]
    },
    {
      "cell_type": "code",
      "execution_count": 22,
      "id": "c937a651",
      "metadata": {
        "colab": {
          "base_uri": "https://localhost:8080/"
        },
        "id": "c937a651",
        "outputId": "a763b840-f6f3-4d3a-b29a-87d8f03f28f9"
      },
      "outputs": [
        {
          "output_type": "stream",
          "name": "stderr",
          "text": [
            "[nltk_data] Downloading package stopwords to /root/nltk_data...\n",
            "[nltk_data]   Package stopwords is already up-to-date!\n"
          ]
        },
        {
          "output_type": "execute_result",
          "data": {
            "text/plain": [
              "True"
            ]
          },
          "metadata": {},
          "execution_count": 22
        }
      ],
      "source": [
        "import nltk\n",
        "nltk.download('stopwords')\n",
        "\n"
      ]
    },
    {
      "cell_type": "code",
      "execution_count": 23,
      "id": "907e8bab",
      "metadata": {
        "id": "907e8bab"
      },
      "outputs": [],
      "source": [
        "stop_words = stopwords.words('english')"
      ]
    },
    {
      "cell_type": "code",
      "execution_count": 24,
      "id": "eed6ce2c",
      "metadata": {
        "colab": {
          "base_uri": "https://localhost:8080/"
        },
        "id": "eed6ce2c",
        "outputId": "63d58411-5856-4521-d8c2-902bb02acfad"
      },
      "outputs": [
        {
          "output_type": "stream",
          "name": "stdout",
          "text": [
            "179\n",
            "['i', 'me', 'my', 'myself', 'we', 'our', 'ours', 'ourselves', 'you', \"you're\", \"you've\", \"you'll\", \"you'd\", 'your', 'yours', 'yourself', 'yourselves', 'he', 'him', 'his', 'himself', 'she', \"she's\", 'her', 'hers', 'herself', 'it', \"it's\", 'its', 'itself', 'they', 'them', 'their', 'theirs', 'themselves', 'what', 'which', 'who', 'whom', 'this', 'that', \"that'll\", 'these', 'those', 'am', 'is', 'are', 'was', 'were', 'be', 'been', 'being', 'have', 'has', 'had', 'having', 'do', 'does', 'did', 'doing', 'a', 'an', 'the', 'and', 'but', 'if', 'or', 'because', 'as', 'until', 'while', 'of', 'at', 'by', 'for', 'with', 'about', 'against', 'between', 'into', 'through', 'during', 'before', 'after', 'above', 'below', 'to', 'from', 'up', 'down', 'in', 'out', 'on', 'off', 'over', 'under', 'again', 'further', 'then', 'once', 'here', 'there', 'when', 'where', 'why', 'how', 'all', 'any', 'both', 'each', 'few', 'more', 'most', 'other', 'some', 'such', 'no', 'nor', 'not', 'only', 'own', 'same', 'so', 'than', 'too', 'very', 's', 't', 'can', 'will', 'just', 'don', \"don't\", 'should', \"should've\", 'now', 'd', 'll', 'm', 'o', 're', 've', 'y', 'ain', 'aren', \"aren't\", 'couldn', \"couldn't\", 'didn', \"didn't\", 'doesn', \"doesn't\", 'hadn', \"hadn't\", 'hasn', \"hasn't\", 'haven', \"haven't\", 'isn', \"isn't\", 'ma', 'mightn', \"mightn't\", 'mustn', \"mustn't\", 'needn', \"needn't\", 'shan', \"shan't\", 'shouldn', \"shouldn't\", 'wasn', \"wasn't\", 'weren', \"weren't\", 'won', \"won't\", 'wouldn', \"wouldn't\"]\n"
          ]
        }
      ],
      "source": [
        "#print stop words\n",
        "print(len(stopwords.words('english')))\n",
        "print(stopwords.words('english'))"
      ]
    },
    {
      "cell_type": "code",
      "execution_count": 25,
      "id": "f3590841",
      "metadata": {
        "colab": {
          "base_uri": "https://localhost:8080/"
        },
        "id": "f3590841",
        "outputId": "03976532-a2e0-4521-8397-ec68dca0807f"
      },
      "outputs": [
        {
          "output_type": "execute_result",
          "data": {
            "text/plain": [
              "['WASHINGTON (Reuters) - The head of a conservative Republican faction in the U.S. Congress, who voted this month for a huge expansion of the national debt to pay for tax cuts, called himself a “fiscal conservative” on Sunday and urged budget restraint in 2018. In keeping with a sharp pivot under way among Republicans, U.S. Representative Mark Meadows, speaking on CBS’ “Face the Nation,” drew a hard line on federal spending, which lawmakers are bracing to do battle over in January. When they return from the holidays on Wednesday, lawmakers will begin trying to pass a federal budget in a fight likely to be linked to other issues, such as immigration policy, even as the November congressional election campaigns approach in which Republicans will seek to keep control of Congress. President Donald Trump and his Republicans want a big budget increase in military spending, while Democrats also want proportional increases for non-defense “discretionary” spending on programs that support education, scientific research, infrastructure, public health and environmental protection. “The (Trump) administration has already been willing to say: ‘We’re going to increase non-defense discretionary spending ... by about 7 percent,’” Meadows, chairman of the small but influential House Freedom Caucus, said on the program. “Now, Democrats are saying that’s not enough, we need to give the government a pay raise of 10 to 11 percent. For a fiscal conservative, I don’t see where the rationale is. ... Eventually you run out of other people’s money,” he said. Meadows was among Republicans who voted in late December for their party’s debt-financed tax overhaul, which is expected to balloon the federal budget deficit and add about $1.5 trillion over 10 years to the $20 trillion national debt. “It’s interesting to hear Mark talk about fiscal responsibility,” Democratic U.S. Representative Joseph Crowley said on CBS. Crowley said the Republican tax bill would require the  United States to borrow $1.5 trillion, to be paid off by future generations, to finance tax cuts for corporations and the rich. “This is one of the least ... fiscally responsible bills we’ve ever seen passed in the history of the House of Representatives. I think we’re going to be paying for this for many, many years to come,” Crowley said. Republicans insist the tax package, the biggest U.S. tax overhaul in more than 30 years,  will boost the economy and job growth. House Speaker Paul Ryan, who also supported the tax bill, recently went further than Meadows, making clear in a radio interview that welfare or “entitlement reform,” as the party often calls it, would be a top Republican priority in 2018. In Republican parlance, “entitlement” programs mean food stamps, housing assistance, Medicare and Medicaid health insurance for the elderly, poor and disabled, as well as other programs created by Washington to assist the needy. Democrats seized on Ryan’s early December remarks, saying they showed Republicans would try to pay for their tax overhaul by seeking spending cuts for social programs. But the goals of House Republicans may have to take a back seat to the Senate, where the votes of some Democrats will be needed to approve a budget and prevent a government shutdown. Democrats will use their leverage in the Senate, which Republicans narrowly control, to defend both discretionary non-defense programs and social spending, while tackling the issue of the “Dreamers,” people brought illegally to the country as children. Trump in September put a March 2018 expiration date on the Deferred Action for Childhood Arrivals, or DACA, program, which protects the young immigrants from deportation and provides them with work permits. The president has said in recent Twitter messages he wants funding for his proposed Mexican border wall and other immigration law changes in exchange for agreeing to help the Dreamers. Representative Debbie Dingell told CBS she did not favor linking that issue to other policy objectives, such as wall funding. “We need to do DACA clean,” she said.  On Wednesday, Trump aides will meet with congressional leaders to discuss those issues. That will be followed by a weekend of strategy sessions for Trump and Republican leaders on Jan. 6 and 7, the White House said. Trump was also scheduled to meet on Sunday with Florida Republican Governor Rick Scott, who wants more emergency aid. The House has passed an $81 billion aid package after hurricanes in Florida, Texas and Puerto Rico, and wildfires in California. The package far exceeded the $44 billion requested by the Trump administration. The Senate has not yet voted on the aid. ',\n",
              " 'Donald Trump just couldn t wish all Americans a Happy New Year and leave it at that. Instead, he had to give a shout out to his enemies, haters and  the very dishonest fake news media.  The former reality show star had just one job to do and he couldn t do it. As our Country rapidly grows stronger and smarter, I want to wish all of my friends, supporters, enemies, haters, and even the very dishonest Fake News Media, a Happy and Healthy New Year,  President Angry Pants tweeted.  2018 will be a great year for America! As our Country rapidly grows stronger and smarter, I want to wish all of my friends, supporters, enemies, haters, and even the very dishonest Fake News Media, a Happy and Healthy New Year. 2018 will be a great year for America!  Donald J. Trump (@realDonaldTrump) December 31, 2017Trump s tweet went down about as welll as you d expect.What kind of president sends a New Year s greeting like this despicable, petty, infantile gibberish? Only Trump! His lack of decency won t even allow him to rise above the gutter long enough to wish the American citizens a happy new year!  Bishop Talbert Swan (@TalbertSwan) December 31, 2017no one likes you  Calvin (@calvinstowell) December 31, 2017Your impeachment would make 2018 a great year for America, but I ll also accept regaining control of Congress.  Miranda Yaver (@mirandayaver) December 31, 2017Do you hear yourself talk? When you have to include that many people that hate you you have to wonder? Why do the they all hate me?  Alan Sandoval (@AlanSandoval13) December 31, 2017Who uses the word Haters in a New Years wish??  Marlene (@marlene399) December 31, 2017You can t just say happy new year?  Koren pollitt (@Korencarpenter) December 31, 2017Here s Trump s New Year s Eve tweet from 2016.Happy New Year to all, including to my many enemies and those who have fought me and lost so badly they just don t know what to do. Love!  Donald J. Trump (@realDonaldTrump) December 31, 2016This is nothing new for Trump. He s been doing this for years.Trump has directed messages to his  enemies  and  haters  for New Year s, Easter, Thanksgiving, and the anniversary of 9/11. pic.twitter.com/4FPAe2KypA  Daniel Dale (@ddale8) December 31, 2017Trump s holiday tweets are clearly not presidential.How long did he work at Hallmark before becoming President?  Steven Goodine (@SGoodine) December 31, 2017He s always been like this . . . the only difference is that in the last few years, his filter has been breaking down.  Roy Schulze (@thbthttt) December 31, 2017Who, apart from a teenager uses the term haters?  Wendy (@WendyWhistles) December 31, 2017he s a fucking 5 year old  Who Knows (@rainyday80) December 31, 2017So, to all the people who voted for this a hole thinking he would change once he got into power, you were wrong! 70-year-old men don t change and now he s a year older.Photo by Andrew Burton/Getty Images.']"
            ]
          },
          "metadata": {},
          "execution_count": 25
        }
      ],
      "source": [
        "list(df['text'][0])"
      ]
    },
    {
      "cell_type": "code",
      "execution_count": 25,
      "id": "3458b759",
      "metadata": {
        "id": "3458b759"
      },
      "outputs": [],
      "source": [
        ""
      ]
    },
    {
      "cell_type": "code",
      "execution_count": 26,
      "id": "e14080b5",
      "metadata": {
        "colab": {
          "base_uri": "https://localhost:8080/",
          "height": 81
        },
        "id": "e14080b5",
        "outputId": "0d72539b-d47a-4bd2-c9ea-2516a43db284"
      },
      "outputs": [
        {
          "output_type": "execute_result",
          "data": {
            "text/plain": [
              "                                               title  \\\n",
              "0  As U.S. budget fight looms, Republicans flip t...   \n",
              "\n",
              "                                                text       subject  \\\n",
              "0  WASHINGTON (Reuters) - The head of a conservat...  politicsNews   \n",
              "\n",
              "                 date  news_type  \n",
              "0  December 31, 2017           1  "
            ],
            "text/html": [
              "\n",
              "  <div id=\"df-7c0c1e49-ee5f-49b0-85f1-ffcf7aaad968\">\n",
              "    <div class=\"colab-df-container\">\n",
              "      <div>\n",
              "<style scoped>\n",
              "    .dataframe tbody tr th:only-of-type {\n",
              "        vertical-align: middle;\n",
              "    }\n",
              "\n",
              "    .dataframe tbody tr th {\n",
              "        vertical-align: top;\n",
              "    }\n",
              "\n",
              "    .dataframe thead th {\n",
              "        text-align: right;\n",
              "    }\n",
              "</style>\n",
              "<table border=\"1\" class=\"dataframe\">\n",
              "  <thead>\n",
              "    <tr style=\"text-align: right;\">\n",
              "      <th></th>\n",
              "      <th>title</th>\n",
              "      <th>text</th>\n",
              "      <th>subject</th>\n",
              "      <th>date</th>\n",
              "      <th>news_type</th>\n",
              "    </tr>\n",
              "  </thead>\n",
              "  <tbody>\n",
              "    <tr>\n",
              "      <th>0</th>\n",
              "      <td>As U.S. budget fight looms, Republicans flip t...</td>\n",
              "      <td>WASHINGTON (Reuters) - The head of a conservat...</td>\n",
              "      <td>politicsNews</td>\n",
              "      <td>December 31, 2017</td>\n",
              "      <td>1</td>\n",
              "    </tr>\n",
              "  </tbody>\n",
              "</table>\n",
              "</div>\n",
              "      <button class=\"colab-df-convert\" onclick=\"convertToInteractive('df-7c0c1e49-ee5f-49b0-85f1-ffcf7aaad968')\"\n",
              "              title=\"Convert this dataframe to an interactive table.\"\n",
              "              style=\"display:none;\">\n",
              "        \n",
              "  <svg xmlns=\"http://www.w3.org/2000/svg\" height=\"24px\"viewBox=\"0 0 24 24\"\n",
              "       width=\"24px\">\n",
              "    <path d=\"M0 0h24v24H0V0z\" fill=\"none\"/>\n",
              "    <path d=\"M18.56 5.44l.94 2.06.94-2.06 2.06-.94-2.06-.94-.94-2.06-.94 2.06-2.06.94zm-11 1L8.5 8.5l.94-2.06 2.06-.94-2.06-.94L8.5 2.5l-.94 2.06-2.06.94zm10 10l.94 2.06.94-2.06 2.06-.94-2.06-.94-.94-2.06-.94 2.06-2.06.94z\"/><path d=\"M17.41 7.96l-1.37-1.37c-.4-.4-.92-.59-1.43-.59-.52 0-1.04.2-1.43.59L10.3 9.45l-7.72 7.72c-.78.78-.78 2.05 0 2.83L4 21.41c.39.39.9.59 1.41.59.51 0 1.02-.2 1.41-.59l7.78-7.78 2.81-2.81c.8-.78.8-2.07 0-2.86zM5.41 20L4 18.59l7.72-7.72 1.47 1.35L5.41 20z\"/>\n",
              "  </svg>\n",
              "      </button>\n",
              "      \n",
              "  <style>\n",
              "    .colab-df-container {\n",
              "      display:flex;\n",
              "      flex-wrap:wrap;\n",
              "      gap: 12px;\n",
              "    }\n",
              "\n",
              "    .colab-df-convert {\n",
              "      background-color: #E8F0FE;\n",
              "      border: none;\n",
              "      border-radius: 50%;\n",
              "      cursor: pointer;\n",
              "      display: none;\n",
              "      fill: #1967D2;\n",
              "      height: 32px;\n",
              "      padding: 0 0 0 0;\n",
              "      width: 32px;\n",
              "    }\n",
              "\n",
              "    .colab-df-convert:hover {\n",
              "      background-color: #E2EBFA;\n",
              "      box-shadow: 0px 1px 2px rgba(60, 64, 67, 0.3), 0px 1px 3px 1px rgba(60, 64, 67, 0.15);\n",
              "      fill: #174EA6;\n",
              "    }\n",
              "\n",
              "    [theme=dark] .colab-df-convert {\n",
              "      background-color: #3B4455;\n",
              "      fill: #D2E3FC;\n",
              "    }\n",
              "\n",
              "    [theme=dark] .colab-df-convert:hover {\n",
              "      background-color: #434B5C;\n",
              "      box-shadow: 0px 1px 3px 1px rgba(0, 0, 0, 0.15);\n",
              "      filter: drop-shadow(0px 1px 2px rgba(0, 0, 0, 0.3));\n",
              "      fill: #FFFFFF;\n",
              "    }\n",
              "  </style>\n",
              "\n",
              "      <script>\n",
              "        const buttonEl =\n",
              "          document.querySelector('#df-7c0c1e49-ee5f-49b0-85f1-ffcf7aaad968 button.colab-df-convert');\n",
              "        buttonEl.style.display =\n",
              "          google.colab.kernel.accessAllowed ? 'block' : 'none';\n",
              "\n",
              "        async function convertToInteractive(key) {\n",
              "          const element = document.querySelector('#df-7c0c1e49-ee5f-49b0-85f1-ffcf7aaad968');\n",
              "          const dataTable =\n",
              "            await google.colab.kernel.invokeFunction('convertToInteractive',\n",
              "                                                     [key], {});\n",
              "          if (!dataTable) return;\n",
              "\n",
              "          const docLinkHtml = 'Like what you see? Visit the ' +\n",
              "            '<a target=\"_blank\" href=https://colab.research.google.com/notebooks/data_table.ipynb>data table notebook</a>'\n",
              "            + ' to learn more about interactive tables.';\n",
              "          element.innerHTML = '';\n",
              "          dataTable['output_type'] = 'display_data';\n",
              "          await google.colab.output.renderOutput(dataTable, element);\n",
              "          const docLink = document.createElement('div');\n",
              "          docLink.innerHTML = docLinkHtml;\n",
              "          element.appendChild(docLink);\n",
              "        }\n",
              "      </script>\n",
              "    </div>\n",
              "  </div>\n",
              "  "
            ]
          },
          "metadata": {},
          "execution_count": 26
        }
      ],
      "source": [
        "df.head(1)"
      ]
    },
    {
      "cell_type": "code",
      "execution_count": 27,
      "id": "b85ee862",
      "metadata": {
        "id": "b85ee862"
      },
      "outputs": [],
      "source": [
        "df['news'] = df['title'] + ' ' + df['subject']"
      ]
    },
    {
      "cell_type": "code",
      "execution_count": 28,
      "id": "a9fc18d9",
      "metadata": {
        "id": "a9fc18d9"
      },
      "outputs": [],
      "source": [
        "#data = dataset.drop(columns='label', axis=1)\n",
        "df = df.drop(columns=['title','text','subject','date'],index= 1)"
      ]
    },
    {
      "cell_type": "code",
      "execution_count": 29,
      "id": "458bdb64",
      "metadata": {
        "colab": {
          "base_uri": "https://localhost:8080/",
          "height": 112
        },
        "id": "458bdb64",
        "outputId": "8795fbc3-b4d4-4b35-ecb4-49cfe6a60745"
      },
      "outputs": [
        {
          "output_type": "execute_result",
          "data": {
            "text/plain": [
              "       news_type                                               news\n",
              "23479          0  How to Blow $700 Million: Al Jazeera America F...\n",
              "23480          0  10 U.S. Navy Sailors Held by Iranian Military ..."
            ],
            "text/html": [
              "\n",
              "  <div id=\"df-0a850bab-2a0d-468c-9e63-b7790da7de7f\">\n",
              "    <div class=\"colab-df-container\">\n",
              "      <div>\n",
              "<style scoped>\n",
              "    .dataframe tbody tr th:only-of-type {\n",
              "        vertical-align: middle;\n",
              "    }\n",
              "\n",
              "    .dataframe tbody tr th {\n",
              "        vertical-align: top;\n",
              "    }\n",
              "\n",
              "    .dataframe thead th {\n",
              "        text-align: right;\n",
              "    }\n",
              "</style>\n",
              "<table border=\"1\" class=\"dataframe\">\n",
              "  <thead>\n",
              "    <tr style=\"text-align: right;\">\n",
              "      <th></th>\n",
              "      <th>news_type</th>\n",
              "      <th>news</th>\n",
              "    </tr>\n",
              "  </thead>\n",
              "  <tbody>\n",
              "    <tr>\n",
              "      <th>23479</th>\n",
              "      <td>0</td>\n",
              "      <td>How to Blow $700 Million: Al Jazeera America F...</td>\n",
              "    </tr>\n",
              "    <tr>\n",
              "      <th>23480</th>\n",
              "      <td>0</td>\n",
              "      <td>10 U.S. Navy Sailors Held by Iranian Military ...</td>\n",
              "    </tr>\n",
              "  </tbody>\n",
              "</table>\n",
              "</div>\n",
              "      <button class=\"colab-df-convert\" onclick=\"convertToInteractive('df-0a850bab-2a0d-468c-9e63-b7790da7de7f')\"\n",
              "              title=\"Convert this dataframe to an interactive table.\"\n",
              "              style=\"display:none;\">\n",
              "        \n",
              "  <svg xmlns=\"http://www.w3.org/2000/svg\" height=\"24px\"viewBox=\"0 0 24 24\"\n",
              "       width=\"24px\">\n",
              "    <path d=\"M0 0h24v24H0V0z\" fill=\"none\"/>\n",
              "    <path d=\"M18.56 5.44l.94 2.06.94-2.06 2.06-.94-2.06-.94-.94-2.06-.94 2.06-2.06.94zm-11 1L8.5 8.5l.94-2.06 2.06-.94-2.06-.94L8.5 2.5l-.94 2.06-2.06.94zm10 10l.94 2.06.94-2.06 2.06-.94-2.06-.94-.94-2.06-.94 2.06-2.06.94z\"/><path d=\"M17.41 7.96l-1.37-1.37c-.4-.4-.92-.59-1.43-.59-.52 0-1.04.2-1.43.59L10.3 9.45l-7.72 7.72c-.78.78-.78 2.05 0 2.83L4 21.41c.39.39.9.59 1.41.59.51 0 1.02-.2 1.41-.59l7.78-7.78 2.81-2.81c.8-.78.8-2.07 0-2.86zM5.41 20L4 18.59l7.72-7.72 1.47 1.35L5.41 20z\"/>\n",
              "  </svg>\n",
              "      </button>\n",
              "      \n",
              "  <style>\n",
              "    .colab-df-container {\n",
              "      display:flex;\n",
              "      flex-wrap:wrap;\n",
              "      gap: 12px;\n",
              "    }\n",
              "\n",
              "    .colab-df-convert {\n",
              "      background-color: #E8F0FE;\n",
              "      border: none;\n",
              "      border-radius: 50%;\n",
              "      cursor: pointer;\n",
              "      display: none;\n",
              "      fill: #1967D2;\n",
              "      height: 32px;\n",
              "      padding: 0 0 0 0;\n",
              "      width: 32px;\n",
              "    }\n",
              "\n",
              "    .colab-df-convert:hover {\n",
              "      background-color: #E2EBFA;\n",
              "      box-shadow: 0px 1px 2px rgba(60, 64, 67, 0.3), 0px 1px 3px 1px rgba(60, 64, 67, 0.15);\n",
              "      fill: #174EA6;\n",
              "    }\n",
              "\n",
              "    [theme=dark] .colab-df-convert {\n",
              "      background-color: #3B4455;\n",
              "      fill: #D2E3FC;\n",
              "    }\n",
              "\n",
              "    [theme=dark] .colab-df-convert:hover {\n",
              "      background-color: #434B5C;\n",
              "      box-shadow: 0px 1px 3px 1px rgba(0, 0, 0, 0.15);\n",
              "      filter: drop-shadow(0px 1px 2px rgba(0, 0, 0, 0.3));\n",
              "      fill: #FFFFFF;\n",
              "    }\n",
              "  </style>\n",
              "\n",
              "      <script>\n",
              "        const buttonEl =\n",
              "          document.querySelector('#df-0a850bab-2a0d-468c-9e63-b7790da7de7f button.colab-df-convert');\n",
              "        buttonEl.style.display =\n",
              "          google.colab.kernel.accessAllowed ? 'block' : 'none';\n",
              "\n",
              "        async function convertToInteractive(key) {\n",
              "          const element = document.querySelector('#df-0a850bab-2a0d-468c-9e63-b7790da7de7f');\n",
              "          const dataTable =\n",
              "            await google.colab.kernel.invokeFunction('convertToInteractive',\n",
              "                                                     [key], {});\n",
              "          if (!dataTable) return;\n",
              "\n",
              "          const docLinkHtml = 'Like what you see? Visit the ' +\n",
              "            '<a target=\"_blank\" href=https://colab.research.google.com/notebooks/data_table.ipynb>data table notebook</a>'\n",
              "            + ' to learn more about interactive tables.';\n",
              "          element.innerHTML = '';\n",
              "          dataTable['output_type'] = 'display_data';\n",
              "          await google.colab.output.renderOutput(dataTable, element);\n",
              "          const docLink = document.createElement('div');\n",
              "          docLink.innerHTML = docLinkHtml;\n",
              "          element.appendChild(docLink);\n",
              "        }\n",
              "      </script>\n",
              "    </div>\n",
              "  </div>\n",
              "  "
            ]
          },
          "metadata": {},
          "execution_count": 29
        }
      ],
      "source": [
        "df.tail(2)"
      ]
    },
    {
      "cell_type": "code",
      "source": [
        ""
      ],
      "metadata": {
        "id": "GL8j6YNAxZdM"
      },
      "id": "GL8j6YNAxZdM",
      "execution_count": 29,
      "outputs": []
    },
    {
      "cell_type": "code",
      "source": [
        "text = df.drop(columns = ['news_type'])"
      ],
      "metadata": {
        "id": "GPpNT51vxZst"
      },
      "id": "GPpNT51vxZst",
      "execution_count": 30,
      "outputs": []
    },
    {
      "cell_type": "code",
      "execution_count": 31,
      "id": "88a37af3",
      "metadata": {
        "id": "88a37af3"
      },
      "outputs": [],
      "source": [
        "#text = df[['news']]"
      ]
    },
    {
      "cell_type": "code",
      "execution_count": 32,
      "id": "776ed8d7",
      "metadata": {
        "id": "776ed8d7"
      },
      "outputs": [],
      "source": [
        "label = df['news_type']"
      ]
    },
    {
      "cell_type": "code",
      "execution_count": 33,
      "id": "1b399cc4",
      "metadata": {
        "colab": {
          "base_uri": "https://localhost:8080/"
        },
        "id": "1b399cc4",
        "outputId": "b0719117-9f1f-40c7-a1f1-f011920e62f6"
      },
      "outputs": [
        {
          "output_type": "execute_result",
          "data": {
            "text/plain": [
              "pandas.core.series.Series"
            ]
          },
          "metadata": {},
          "execution_count": 33
        }
      ],
      "source": [
        "type(label)"
      ]
    },
    {
      "cell_type": "code",
      "execution_count": 34,
      "id": "f0d85ae3",
      "metadata": {
        "colab": {
          "base_uri": "https://localhost:8080/"
        },
        "id": "f0d85ae3",
        "outputId": "58b0fdf1-cdca-4c04-cdee-0bce167e9c84"
      },
      "outputs": [
        {
          "output_type": "execute_result",
          "data": {
            "text/plain": [
              "pandas.core.frame.DataFrame"
            ]
          },
          "metadata": {},
          "execution_count": 34
        }
      ],
      "source": [
        "type(text)"
      ]
    },
    {
      "cell_type": "code",
      "execution_count": 35,
      "id": "04b15383",
      "metadata": {
        "id": "04b15383"
      },
      "outputs": [],
      "source": [
        "#cleaning text.\n",
        "#Stemming is a technique used to extract the base form of the words by removing affixes from them.\n",
        "porter = PorterStemmer()\n",
        "def clean(text):\n",
        "    stemmed_text = re.sub('[^a-zA-Z]', ' ',text) # ^ this is for exclusion \n",
        "    stemmed_text = stemmed_text.lower()\n",
        "    stemmed_text = stemmed_text.split()\n",
        "    \n",
        "    # porter_stem(word): to reduce the word \n",
        "    stemmed_text = [porter.stem(word) for word in stemmed_text if not word in stopwords.words('english')] # this will store words after removing special character exclusing stopwords also\n",
        "    stemmed_text = ' '.join(stemmed_text)\n",
        "    return stemmed_text\n",
        "    "
      ]
    },
    {
      "cell_type": "code",
      "execution_count": 36,
      "id": "56fbdfbc",
      "metadata": {
        "id": "56fbdfbc"
      },
      "outputs": [],
      "source": [
        "df['news'] = df['news'].apply(clean)"
      ]
    },
    {
      "cell_type": "code",
      "execution_count": 37,
      "id": "95c02e26",
      "metadata": {
        "colab": {
          "base_uri": "https://localhost:8080/",
          "height": 206
        },
        "id": "95c02e26",
        "outputId": "0a0e0768-a979-404f-bc0e-c3368d59d819"
      },
      "outputs": [
        {
          "output_type": "execute_result",
          "data": {
            "text/plain": [
              "   news_type                                               news\n",
              "0          1  u budget fight loom republican flip fiscal scr...\n",
              "2          1  senior u republican senat let mr mueller job p...\n",
              "3          1  fbi russia probe help australian diplomat tip ...\n",
              "4          1  trump want postal servic charg much amazon shi...\n",
              "5          1  white hous congress prepar talk spend immigr p..."
            ],
            "text/html": [
              "\n",
              "  <div id=\"df-d92d2fac-0bf7-4d75-9095-c5d28636600d\">\n",
              "    <div class=\"colab-df-container\">\n",
              "      <div>\n",
              "<style scoped>\n",
              "    .dataframe tbody tr th:only-of-type {\n",
              "        vertical-align: middle;\n",
              "    }\n",
              "\n",
              "    .dataframe tbody tr th {\n",
              "        vertical-align: top;\n",
              "    }\n",
              "\n",
              "    .dataframe thead th {\n",
              "        text-align: right;\n",
              "    }\n",
              "</style>\n",
              "<table border=\"1\" class=\"dataframe\">\n",
              "  <thead>\n",
              "    <tr style=\"text-align: right;\">\n",
              "      <th></th>\n",
              "      <th>news_type</th>\n",
              "      <th>news</th>\n",
              "    </tr>\n",
              "  </thead>\n",
              "  <tbody>\n",
              "    <tr>\n",
              "      <th>0</th>\n",
              "      <td>1</td>\n",
              "      <td>u budget fight loom republican flip fiscal scr...</td>\n",
              "    </tr>\n",
              "    <tr>\n",
              "      <th>2</th>\n",
              "      <td>1</td>\n",
              "      <td>senior u republican senat let mr mueller job p...</td>\n",
              "    </tr>\n",
              "    <tr>\n",
              "      <th>3</th>\n",
              "      <td>1</td>\n",
              "      <td>fbi russia probe help australian diplomat tip ...</td>\n",
              "    </tr>\n",
              "    <tr>\n",
              "      <th>4</th>\n",
              "      <td>1</td>\n",
              "      <td>trump want postal servic charg much amazon shi...</td>\n",
              "    </tr>\n",
              "    <tr>\n",
              "      <th>5</th>\n",
              "      <td>1</td>\n",
              "      <td>white hous congress prepar talk spend immigr p...</td>\n",
              "    </tr>\n",
              "  </tbody>\n",
              "</table>\n",
              "</div>\n",
              "      <button class=\"colab-df-convert\" onclick=\"convertToInteractive('df-d92d2fac-0bf7-4d75-9095-c5d28636600d')\"\n",
              "              title=\"Convert this dataframe to an interactive table.\"\n",
              "              style=\"display:none;\">\n",
              "        \n",
              "  <svg xmlns=\"http://www.w3.org/2000/svg\" height=\"24px\"viewBox=\"0 0 24 24\"\n",
              "       width=\"24px\">\n",
              "    <path d=\"M0 0h24v24H0V0z\" fill=\"none\"/>\n",
              "    <path d=\"M18.56 5.44l.94 2.06.94-2.06 2.06-.94-2.06-.94-.94-2.06-.94 2.06-2.06.94zm-11 1L8.5 8.5l.94-2.06 2.06-.94-2.06-.94L8.5 2.5l-.94 2.06-2.06.94zm10 10l.94 2.06.94-2.06 2.06-.94-2.06-.94-.94-2.06-.94 2.06-2.06.94z\"/><path d=\"M17.41 7.96l-1.37-1.37c-.4-.4-.92-.59-1.43-.59-.52 0-1.04.2-1.43.59L10.3 9.45l-7.72 7.72c-.78.78-.78 2.05 0 2.83L4 21.41c.39.39.9.59 1.41.59.51 0 1.02-.2 1.41-.59l7.78-7.78 2.81-2.81c.8-.78.8-2.07 0-2.86zM5.41 20L4 18.59l7.72-7.72 1.47 1.35L5.41 20z\"/>\n",
              "  </svg>\n",
              "      </button>\n",
              "      \n",
              "  <style>\n",
              "    .colab-df-container {\n",
              "      display:flex;\n",
              "      flex-wrap:wrap;\n",
              "      gap: 12px;\n",
              "    }\n",
              "\n",
              "    .colab-df-convert {\n",
              "      background-color: #E8F0FE;\n",
              "      border: none;\n",
              "      border-radius: 50%;\n",
              "      cursor: pointer;\n",
              "      display: none;\n",
              "      fill: #1967D2;\n",
              "      height: 32px;\n",
              "      padding: 0 0 0 0;\n",
              "      width: 32px;\n",
              "    }\n",
              "\n",
              "    .colab-df-convert:hover {\n",
              "      background-color: #E2EBFA;\n",
              "      box-shadow: 0px 1px 2px rgba(60, 64, 67, 0.3), 0px 1px 3px 1px rgba(60, 64, 67, 0.15);\n",
              "      fill: #174EA6;\n",
              "    }\n",
              "\n",
              "    [theme=dark] .colab-df-convert {\n",
              "      background-color: #3B4455;\n",
              "      fill: #D2E3FC;\n",
              "    }\n",
              "\n",
              "    [theme=dark] .colab-df-convert:hover {\n",
              "      background-color: #434B5C;\n",
              "      box-shadow: 0px 1px 3px 1px rgba(0, 0, 0, 0.15);\n",
              "      filter: drop-shadow(0px 1px 2px rgba(0, 0, 0, 0.3));\n",
              "      fill: #FFFFFF;\n",
              "    }\n",
              "  </style>\n",
              "\n",
              "      <script>\n",
              "        const buttonEl =\n",
              "          document.querySelector('#df-d92d2fac-0bf7-4d75-9095-c5d28636600d button.colab-df-convert');\n",
              "        buttonEl.style.display =\n",
              "          google.colab.kernel.accessAllowed ? 'block' : 'none';\n",
              "\n",
              "        async function convertToInteractive(key) {\n",
              "          const element = document.querySelector('#df-d92d2fac-0bf7-4d75-9095-c5d28636600d');\n",
              "          const dataTable =\n",
              "            await google.colab.kernel.invokeFunction('convertToInteractive',\n",
              "                                                     [key], {});\n",
              "          if (!dataTable) return;\n",
              "\n",
              "          const docLinkHtml = 'Like what you see? Visit the ' +\n",
              "            '<a target=\"_blank\" href=https://colab.research.google.com/notebooks/data_table.ipynb>data table notebook</a>'\n",
              "            + ' to learn more about interactive tables.';\n",
              "          element.innerHTML = '';\n",
              "          dataTable['output_type'] = 'display_data';\n",
              "          await google.colab.output.renderOutput(dataTable, element);\n",
              "          const docLink = document.createElement('div');\n",
              "          docLink.innerHTML = docLinkHtml;\n",
              "          element.appendChild(docLink);\n",
              "        }\n",
              "      </script>\n",
              "    </div>\n",
              "  </div>\n",
              "  "
            ]
          },
          "metadata": {},
          "execution_count": 37
        }
      ],
      "source": [
        "df.head()"
      ]
    },
    {
      "cell_type": "code",
      "source": [
        "#df.to_excel('/gdrive/My Drive/Colab Notebooks/RNN/Real_Fake_news model/df_final.xlsx')\n"
      ],
      "metadata": {
        "id": "Rb_zBupEM9D-"
      },
      "id": "Rb_zBupEM9D-",
      "execution_count": 38,
      "outputs": []
    },
    {
      "cell_type": "code",
      "execution_count": 39,
      "id": "89556f68",
      "metadata": {
        "id": "89556f68"
      },
      "outputs": [],
      "source": [
        "#Split Data into Training and Test Data\n",
        "from sklearn.model_selection import train_test_split\n",
        "\n",
        "X_train, X_test, y_train, y_test = train_test_split(\n",
        "    df['news'],\n",
        "    df['news_type'],\n",
        "    test_size=0.3, \n",
        "    random_state=42,stratify=df['news_type'])"
      ]
    },
    {
      "cell_type": "code",
      "execution_count": 40,
      "id": "d38db90b",
      "metadata": {
        "colab": {
          "base_uri": "https://localhost:8080/"
        },
        "id": "d38db90b",
        "outputId": "3d926b1d-c16a-4558-99b2-1637ac5898e9"
      },
      "outputs": [
        {
          "output_type": "execute_result",
          "data": {
            "text/plain": [
              "((31427,), (13469,), (31427,), (13469,))"
            ]
          },
          "metadata": {},
          "execution_count": 40
        }
      ],
      "source": [
        "X_train.shape, X_test.shape, y_train.shape, y_test.shape"
      ]
    },
    {
      "cell_type": "code",
      "execution_count": 41,
      "id": "a8e7e0ff",
      "metadata": {
        "colab": {
          "base_uri": "https://localhost:8080/",
          "height": 35
        },
        "id": "a8e7e0ff",
        "outputId": "0ce03cac-3c4a-4007-aa8b-faa935f1992d"
      },
      "outputs": [
        {
          "output_type": "execute_result",
          "data": {
            "text/plain": [
              "'media tell manchest terror attack video polit'"
            ],
            "application/vnd.google.colaboratory.intrinsic+json": {
              "type": "string"
            }
          },
          "metadata": {},
          "execution_count": 41
        }
      ],
      "source": [
        "#Building the Tokenizer\n",
        "X_train.tolist()[0]"
      ]
    },
    {
      "cell_type": "code",
      "execution_count": 42,
      "id": "7a0e2f4e",
      "metadata": {
        "id": "7a0e2f4e"
      },
      "outputs": [],
      "source": [
        "import tensorflow as tf"
      ]
    },
    {
      "cell_type": "code",
      "execution_count": 43,
      "id": "f187b69d",
      "metadata": {
        "id": "f187b69d"
      },
      "outputs": [],
      "source": [
        "top_words = 10000 #Vocablury size\n",
        "t = tf.keras.preprocessing.text.Tokenizer(num_words=top_words) # num_words -> Vocablury size"
      ]
    },
    {
      "cell_type": "code",
      "execution_count": 44,
      "id": "0533404d",
      "metadata": {
        "id": "0533404d"
      },
      "outputs": [],
      "source": [
        "#Fit tokenizer with actual training data.Tokelization means identifying all indvisual unique words and creating a dictionary out of it.\n",
        "t.fit_on_texts(X_train.to_list())"
      ]
    },
    {
      "cell_type": "code",
      "execution_count": 45,
      "id": "f7f77872",
      "metadata": {
        "colab": {
          "base_uri": "https://localhost:8080/"
        },
        "id": "f7f77872",
        "outputId": "a67f8750-7d9c-44e1-dc56-408dced12e11"
      },
      "outputs": [
        {
          "output_type": "execute_result",
          "data": {
            "text/plain": [
              "keras_preprocessing.text.Tokenizer"
            ]
          },
          "metadata": {},
          "execution_count": 45
        }
      ],
      "source": [
        "type(t)"
      ]
    },
    {
      "cell_type": "code",
      "execution_count": 46,
      "id": "5ef3d422",
      "metadata": {
        "colab": {
          "base_uri": "https://localhost:8080/"
        },
        "id": "5ef3d422",
        "outputId": "175b2a1e-a3f8-4a8c-ba40-266d4fe23626"
      },
      "outputs": [
        {
          "output_type": "execute_result",
          "data": {
            "text/plain": [
              "{'news': 1,\n",
              " 'trump': 2,\n",
              " 'politicsnew': 3,\n",
              " 'worldnew': 4,\n",
              " 'video': 5,\n",
              " 'polit': 6,\n",
              " 'u': 7,\n",
              " 'left': 8,\n",
              " 'say': 9,\n",
              " 'obama': 10,\n",
              " 'hillari': 11,\n",
              " 'govern': 12,\n",
              " 'hous': 13,\n",
              " 'watch': 14,\n",
              " 'presid': 15,\n",
              " 'republican': 16,\n",
              " 'clinton': 17,\n",
              " 'new': 18,\n",
              " 'white': 19,\n",
              " 'senat': 20,\n",
              " 'call': 21,\n",
              " 'democrat': 22,\n",
              " 'state': 23,\n",
              " 'us': 24,\n",
              " 'bill': 25,\n",
              " 'russia': 26,\n",
              " 'elect': 27,\n",
              " 'vote': 28,\n",
              " 'get': 29,\n",
              " 'support': 30,\n",
              " 'break': 31,\n",
              " 'attack': 32,\n",
              " 'make': 33,\n",
              " 'tweet': 34,\n",
              " 'court': 35,\n",
              " 'north': 36,\n",
              " 'plan': 37,\n",
              " 'black': 38,\n",
              " 'muslim': 39,\n",
              " 'korea': 40,\n",
              " 'report': 41,\n",
              " 'donald': 42,\n",
              " 'middl': 43,\n",
              " 'east': 44,\n",
              " 'media': 45,\n",
              " 'show': 46,\n",
              " 'back': 47,\n",
              " 'american': 48,\n",
              " 'want': 49,\n",
              " 'china': 50,\n",
              " 'kill': 51,\n",
              " 'tax': 52,\n",
              " 'leader': 53,\n",
              " 'anti': 54,\n",
              " 'right': 55,\n",
              " 'polic': 56,\n",
              " 'gop': 57,\n",
              " 'meet': 58,\n",
              " 'campaign': 59,\n",
              " 'deal': 60,\n",
              " 'talk': 61,\n",
              " 'take': 62,\n",
              " 'may': 63,\n",
              " 'iran': 64,\n",
              " 'protest': 65,\n",
              " 'one': 66,\n",
              " 'offici': 67,\n",
              " 'tell': 68,\n",
              " 'america': 69,\n",
              " 'year': 70,\n",
              " 'russian': 71,\n",
              " 'law': 72,\n",
              " 'parti': 73,\n",
              " 'n': 74,\n",
              " 'go': 75,\n",
              " 'ban': 76,\n",
              " 'war': 77,\n",
              " 'time': 78,\n",
              " 'fbi': 79,\n",
              " 'use': 80,\n",
              " 'lie': 81,\n",
              " 'ask': 82,\n",
              " 'rule': 83,\n",
              " 'gun': 84,\n",
              " 'eu': 85,\n",
              " 'give': 86,\n",
              " 'former': 87,\n",
              " 'peopl': 88,\n",
              " 'like': 89,\n",
              " 'liber': 90,\n",
              " 'fire': 91,\n",
              " 'cnn': 92,\n",
              " 'win': 93,\n",
              " 'secur': 94,\n",
              " 'first': 95,\n",
              " 'syria': 96,\n",
              " 'speech': 97,\n",
              " 'forc': 98,\n",
              " 'top': 99,\n",
              " 'day': 100,\n",
              " 'million': 101,\n",
              " 'minist': 102,\n",
              " 'chief': 103,\n",
              " 'conserv': 104,\n",
              " 'twitter': 105,\n",
              " 'nation': 106,\n",
              " 'live': 107,\n",
              " 'immigr': 108,\n",
              " 'racist': 109,\n",
              " 'congress': 110,\n",
              " 'probe': 111,\n",
              " 'refuge': 112,\n",
              " 'judg': 113,\n",
              " 'claim': 114,\n",
              " 'warn': 115,\n",
              " 'tri': 116,\n",
              " 'lawmak': 117,\n",
              " 'man': 118,\n",
              " 'illeg': 119,\n",
              " 'south': 120,\n",
              " 'pm': 121,\n",
              " 'arrest': 122,\n",
              " 'releas': 123,\n",
              " 'border': 124,\n",
              " 'would': 125,\n",
              " 'fight': 126,\n",
              " 'women': 127,\n",
              " 'voter': 128,\n",
              " 'aid': 129,\n",
              " 'could': 130,\n",
              " 'brexit': 131,\n",
              " 'work': 132,\n",
              " 'destroy': 133,\n",
              " 'poll': 134,\n",
              " 'order': 135,\n",
              " 'sander': 136,\n",
              " 'fox': 137,\n",
              " 'sourc': 138,\n",
              " 'cop': 139,\n",
              " 'help': 140,\n",
              " 'fund': 141,\n",
              " 'governor': 142,\n",
              " 'email': 143,\n",
              " 'group': 144,\n",
              " 'see': 145,\n",
              " 'militari': 146,\n",
              " 'putin': 147,\n",
              " 'foreign': 148,\n",
              " 'seek': 149,\n",
              " 'factbox': 150,\n",
              " 'end': 151,\n",
              " 'two': 152,\n",
              " 'face': 153,\n",
              " 'cruz': 154,\n",
              " 'post': 155,\n",
              " 'school': 156,\n",
              " 'nuclear': 157,\n",
              " 'urg': 158,\n",
              " 'host': 159,\n",
              " 'move': 160,\n",
              " 'islam': 161,\n",
              " 'uk': 162,\n",
              " 'run': 163,\n",
              " 'fake': 164,\n",
              " 'chang': 165,\n",
              " 'hilari': 166,\n",
              " 'woman': 167,\n",
              " 'suprem': 168,\n",
              " 'need': 169,\n",
              " 'investig': 170,\n",
              " 'open': 171,\n",
              " 'respons': 172,\n",
              " 'visit': 173,\n",
              " 'old': 174,\n",
              " 'candid': 175,\n",
              " 'ralli': 176,\n",
              " 'imag': 177,\n",
              " 'student': 178,\n",
              " 'threaten': 179,\n",
              " 'stop': 180,\n",
              " 'saudi': 181,\n",
              " 'race': 182,\n",
              " 'sanction': 183,\n",
              " 'offic': 184,\n",
              " 'presidenti': 185,\n",
              " 'turkey': 186,\n",
              " 'polici': 187,\n",
              " 'debat': 188,\n",
              " 'obamacar': 189,\n",
              " 'job': 190,\n",
              " 'terrorist': 191,\n",
              " 'wow': 192,\n",
              " 'terror': 193,\n",
              " 'charg': 194,\n",
              " 'goe': 195,\n",
              " 'berni': 196,\n",
              " 'head': 197,\n",
              " 'cut': 198,\n",
              " 'hack': 199,\n",
              " 'question': 200,\n",
              " 'defend': 201,\n",
              " 'healthcar': 202,\n",
              " 'critic': 203,\n",
              " 'death': 204,\n",
              " 'citi': 205,\n",
              " 'threat': 206,\n",
              " 'mexico': 207,\n",
              " 'ex': 208,\n",
              " 'accus': 209,\n",
              " 'detail': 210,\n",
              " 'shoot': 211,\n",
              " 'pick': 212,\n",
              " 'travel': 213,\n",
              " 'power': 214,\n",
              " 'ryan': 215,\n",
              " 'f': 216,\n",
              " 'blame': 217,\n",
              " 'expos': 218,\n",
              " 'case': 219,\n",
              " 'gener': 220,\n",
              " 'german': 221,\n",
              " 'next': 222,\n",
              " 'world': 223,\n",
              " 'leav': 224,\n",
              " 'push': 225,\n",
              " 'must': 226,\n",
              " 'hate': 227,\n",
              " 'announc': 228,\n",
              " 'interview': 229,\n",
              " 'free': 230,\n",
              " 'lead': 231,\n",
              " 'climat': 232,\n",
              " 'press': 233,\n",
              " 'hit': 234,\n",
              " 'comey': 235,\n",
              " 'tie': 236,\n",
              " 'reveal': 237,\n",
              " 'major': 238,\n",
              " 'trade': 239,\n",
              " 'big': 240,\n",
              " 'syrian': 241,\n",
              " 'put': 242,\n",
              " 'administr': 243,\n",
              " 'shock': 244,\n",
              " 'way': 245,\n",
              " 'defens': 246,\n",
              " 'depart': 247,\n",
              " 'panel': 248,\n",
              " 'come': 249,\n",
              " 'famili': 250,\n",
              " 'drop': 251,\n",
              " 'air': 252,\n",
              " 'lawyer': 253,\n",
              " 'caught': 254,\n",
              " 'germani': 255,\n",
              " 'discuss': 256,\n",
              " 'justic': 257,\n",
              " 'room': 258,\n",
              " 'mayor': 259,\n",
              " 'crisi': 260,\n",
              " 'leftist': 261,\n",
              " 'kid': 262,\n",
              " 'block': 263,\n",
              " 'secret': 264,\n",
              " 'turn': 265,\n",
              " 'britain': 266,\n",
              " 'final': 267,\n",
              " 'bomb': 268,\n",
              " 'wall': 269,\n",
              " 'issu': 270,\n",
              " 'reform': 271,\n",
              " 'pay': 272,\n",
              " 'hope': 273,\n",
              " 'dem': 274,\n",
              " 'refus': 275,\n",
              " 'secretari': 276,\n",
              " 'lose': 277,\n",
              " 'think': 278,\n",
              " 'demand': 279,\n",
              " 'offer': 280,\n",
              " 'iraq': 281,\n",
              " 'myanmar': 282,\n",
              " 'washington': 283,\n",
              " 'look': 284,\n",
              " 'ted': 285,\n",
              " 'opposit': 286,\n",
              " 'got': 287,\n",
              " 'money': 288,\n",
              " 'nomine': 289,\n",
              " 'home': 290,\n",
              " 'week': 291,\n",
              " 'still': 292,\n",
              " 'strike': 293,\n",
              " 'murder': 294,\n",
              " 'set': 295,\n",
              " 'blast': 296,\n",
              " 'pro': 297,\n",
              " 'endors': 298,\n",
              " 'control': 299,\n",
              " 'admit': 300,\n",
              " 'start': 301,\n",
              " 'prove': 302,\n",
              " 'sign': 303,\n",
              " 'isi': 304,\n",
              " 'japan': 305,\n",
              " 'keep': 306,\n",
              " 'advis': 307,\n",
              " 'peac': 308,\n",
              " 'shut': 309,\n",
              " 'victim': 310,\n",
              " 'tillerson': 311,\n",
              " 'social': 312,\n",
              " 'truth': 313,\n",
              " 'countri': 314,\n",
              " 'budget': 315,\n",
              " 'texa': 316,\n",
              " 'franc': 317,\n",
              " 'exclus': 318,\n",
              " 'last': 319,\n",
              " 'legal': 320,\n",
              " 'target': 321,\n",
              " 'ad': 322,\n",
              " 'son': 323,\n",
              " 'flag': 324,\n",
              " 'colleg': 325,\n",
              " 'violenc': 326,\n",
              " 'know': 327,\n",
              " 'act': 328,\n",
              " 'john': 329,\n",
              " 'name': 330,\n",
              " 'dead': 331,\n",
              " 'attorney': 332,\n",
              " 'huge': 333,\n",
              " 'comment': 334,\n",
              " 'pass': 335,\n",
              " 'director': 336,\n",
              " 'paul': 337,\n",
              " 'return': 338,\n",
              " 'busi': 339,\n",
              " 'speak': 340,\n",
              " 'hold': 341,\n",
              " 'agenc': 342,\n",
              " 'team': 343,\n",
              " 'israel': 344,\n",
              " 'member': 345,\n",
              " 'girl': 346,\n",
              " 'agre': 347,\n",
              " 'suspect': 348,\n",
              " 'slam': 349,\n",
              " 'penc': 350,\n",
              " 'never': 351,\n",
              " 'brutal': 352,\n",
              " 'arm': 353,\n",
              " 'reason': 354,\n",
              " 'resign': 355,\n",
              " 'feder': 356,\n",
              " 'rape': 357,\n",
              " 'thing': 358,\n",
              " 'stand': 359,\n",
              " 'sexual': 360,\n",
              " 'hand': 361,\n",
              " 'find': 362,\n",
              " 'worker': 363,\n",
              " 'activist': 364,\n",
              " 'york': 365,\n",
              " 'stori': 366,\n",
              " 'health': 367,\n",
              " 'made': 368,\n",
              " 'said': 369,\n",
              " 'jail': 370,\n",
              " 'approv': 371,\n",
              " 'water': 372,\n",
              " 'puerto': 373,\n",
              " 'assault': 374,\n",
              " 'bust': 375,\n",
              " 'gay': 376,\n",
              " 'allow': 377,\n",
              " 'die': 378,\n",
              " 'independ': 379,\n",
              " 'even': 380,\n",
              " 'speaker': 381,\n",
              " 'list': 382,\n",
              " 'decis': 383,\n",
              " 'propos': 384,\n",
              " 'high': 385,\n",
              " 'told': 386,\n",
              " 'near': 387,\n",
              " 'alien': 388,\n",
              " 'christian': 389,\n",
              " 'execut': 390,\n",
              " 'korean': 391,\n",
              " 'fail': 392,\n",
              " 'great': 393,\n",
              " 'lol': 394,\n",
              " 'realli': 395,\n",
              " 'merkel': 396,\n",
              " 'children': 397,\n",
              " 'play': 398,\n",
              " 'tv': 399,\n",
              " 'al': 400,\n",
              " 'boiler': 401,\n",
              " 'reject': 402,\n",
              " 'radic': 403,\n",
              " 'rico': 404,\n",
              " 'let': 405,\n",
              " 'mock': 406,\n",
              " 'key': 407,\n",
              " 'coalit': 408,\n",
              " 'ahead': 409,\n",
              " 'jerusalem': 410,\n",
              " 'protect': 411,\n",
              " 'billion': 412,\n",
              " 'missil': 413,\n",
              " 'georg': 414,\n",
              " 'messag': 415,\n",
              " 'star': 416,\n",
              " 'anoth': 417,\n",
              " 'ever': 418,\n",
              " 'armi': 419,\n",
              " 'corrupt': 420,\n",
              " 'yr': 421,\n",
              " 'believ': 422,\n",
              " 'rip': 423,\n",
              " 'shot': 424,\n",
              " 'inaugur': 425,\n",
              " 'public': 426,\n",
              " 'effort': 427,\n",
              " 'possibl': 428,\n",
              " 'confirm': 429,\n",
              " 'send': 430,\n",
              " 'matter': 431,\n",
              " 'concern': 432,\n",
              " 'readi': 433,\n",
              " 'explain': 434,\n",
              " 'away': 435,\n",
              " 'deni': 436,\n",
              " 'fed': 437,\n",
              " 'test': 438,\n",
              " 'hear': 439,\n",
              " 'mccain': 440,\n",
              " 'street': 441,\n",
              " 'florida': 442,\n",
              " 'bank': 443,\n",
              " 'rohingya': 444,\n",
              " 'migrant': 445,\n",
              " 'action': 446,\n",
              " 'chair': 447,\n",
              " 'boom': 448,\n",
              " 'alleg': 449,\n",
              " 'step': 450,\n",
              " 'catalan': 451,\n",
              " 'expect': 452,\n",
              " 'close': 453,\n",
              " 'far': 454,\n",
              " 'bid': 455,\n",
              " 'rais': 456,\n",
              " 'join': 457,\n",
              " 'latest': 458,\n",
              " 'word': 459,\n",
              " 'behind': 460,\n",
              " 'session': 461,\n",
              " 'happen': 462,\n",
              " 'fraud': 463,\n",
              " 'scandal': 464,\n",
              " 'humili': 465,\n",
              " 'unit': 466,\n",
              " 'fan': 467,\n",
              " 'cia': 468,\n",
              " 'stun': 469,\n",
              " 'spi': 470,\n",
              " 'statement': 471,\n",
              " 'citizen': 472,\n",
              " 'abort': 473,\n",
              " 'dnc': 474,\n",
              " 'msnbc': 475,\n",
              " 'facebook': 476,\n",
              " 'leak': 477,\n",
              " 'remov': 478,\n",
              " 'three': 479,\n",
              " 'amid': 480,\n",
              " 'challeng': 481,\n",
              " 'compani': 482,\n",
              " 'prison': 483,\n",
              " 'found': 484,\n",
              " 'veteran': 485,\n",
              " 'sex': 486,\n",
              " 'servic': 487,\n",
              " 'rep': 488,\n",
              " 'nomin': 489,\n",
              " 'ep': 490,\n",
              " 'real': 491,\n",
              " 'philippin': 492,\n",
              " 'flynn': 493,\n",
              " 'record': 494,\n",
              " 'point': 495,\n",
              " 'review': 496,\n",
              " 'commun': 497,\n",
              " 'london': 498,\n",
              " 'zimbabw': 499,\n",
              " 'good': 500,\n",
              " 'king': 501,\n",
              " 'bush': 502,\n",
              " 'best': 503,\n",
              " 'babi': 504,\n",
              " 'full': 505,\n",
              " 'nfl': 506,\n",
              " 'answer': 507,\n",
              " 'macron': 508,\n",
              " 'vow': 509,\n",
              " 'iraqi': 510,\n",
              " 'ignor': 511,\n",
              " 'embarrass': 512,\n",
              " 'milit': 513,\n",
              " 'hurrican': 514,\n",
              " 'journalist': 515,\n",
              " 'eye': 516,\n",
              " 'british': 517,\n",
              " 'internet': 518,\n",
              " 'line': 519,\n",
              " 'becom': 520,\n",
              " 'venezuela': 521,\n",
              " 'alli': 522,\n",
              " 'jr': 523,\n",
              " 'bombshel': 524,\n",
              " 'despit': 525,\n",
              " 'taxpay': 526,\n",
              " 'special': 527,\n",
              " 'congressman': 528,\n",
              " 'crowd': 529,\n",
              " 'wikileak': 530,\n",
              " 'parliament': 531,\n",
              " 'consid': 532,\n",
              " 'kremlin': 533,\n",
              " 'diplomat': 534,\n",
              " 'declar': 535,\n",
              " 'transgend': 536,\n",
              " 'wife': 537,\n",
              " 'rate': 538,\n",
              " 'chicago': 539,\n",
              " 'cuba': 540,\n",
              " 'danger': 541,\n",
              " 'intellig': 542,\n",
              " 'violent': 543,\n",
              " 'pressur': 544,\n",
              " 'repeal': 545,\n",
              " 'appeal': 546,\n",
              " 'build': 547,\n",
              " 'ck': 548,\n",
              " 'love': 549,\n",
              " 'california': 550,\n",
              " 'turkish': 551,\n",
              " 'promis': 552,\n",
              " 'view': 553,\n",
              " 'month': 554,\n",
              " 'attempt': 555,\n",
              " 'owner': 556,\n",
              " 'link': 557,\n",
              " 'spend': 558,\n",
              " 'crime': 559,\n",
              " 'care': 560,\n",
              " 'benghazi': 561,\n",
              " 'senior': 562,\n",
              " 'respond': 563,\n",
              " 'canada': 564,\n",
              " 'rubio': 565,\n",
              " 'part': 566,\n",
              " 'bad': 567,\n",
              " 'hollywood': 568,\n",
              " 'march': 569,\n",
              " 'miss': 570,\n",
              " 'femal': 571,\n",
              " 'trip': 572,\n",
              " 'ceo': 573,\n",
              " 'launch': 574,\n",
              " 'sean': 575,\n",
              " 'letter': 576,\n",
              " 'joe': 577,\n",
              " 'boy': 578,\n",
              " 'michel': 579,\n",
              " 'number': 580,\n",
              " 'photo': 581,\n",
              " 'friend': 582,\n",
              " 'sentenc': 583,\n",
              " 'quit': 584,\n",
              " 'french': 585,\n",
              " 'game': 586,\n",
              " 'replac': 587,\n",
              " 'outrag': 588,\n",
              " 'everi': 589,\n",
              " 'young': 590,\n",
              " 'global': 591,\n",
              " 'bring': 592,\n",
              " 'lebanon': 593,\n",
              " 'evid': 594,\n",
              " 'four': 595,\n",
              " 'privat': 596,\n",
              " 'program': 597,\n",
              " 'celebr': 598,\n",
              " 'fear': 599,\n",
              " 'kurdish': 600,\n",
              " 'battl': 601,\n",
              " 'burn': 602,\n",
              " 'doj': 603,\n",
              " 'emerg': 604,\n",
              " 'second': 605,\n",
              " 'xi': 606,\n",
              " 'commit': 607,\n",
              " 'soldier': 608,\n",
              " 'warren': 609,\n",
              " 'pull': 610,\n",
              " 'ambassador': 611,\n",
              " 'kelli': 612,\n",
              " 'thousand': 613,\n",
              " 'donat': 614,\n",
              " 'yet': 615,\n",
              " 'person': 616,\n",
              " 'debt': 617,\n",
              " 'drug': 618,\n",
              " 'document': 619,\n",
              " 'car': 620,\n",
              " 'disgust': 621,\n",
              " 'without': 622,\n",
              " 'delay': 623,\n",
              " 'cancel': 624,\n",
              " 'term': 625,\n",
              " 'throw': 626,\n",
              " 'child': 627,\n",
              " 'massiv': 628,\n",
              " 'firm': 629,\n",
              " 'agent': 630,\n",
              " 'awesom': 631,\n",
              " 'thug': 632,\n",
              " 'angri': 633,\n",
              " 'hard': 634,\n",
              " 'life': 635,\n",
              " 'nyc': 636,\n",
              " 'sarah': 637,\n",
              " 'pelosi': 638,\n",
              " 'blow': 639,\n",
              " 'histori': 640,\n",
              " 'pope': 641,\n",
              " 'town': 642,\n",
              " 'union': 643,\n",
              " 'five': 644,\n",
              " 'beat': 645,\n",
              " 'reuter': 646,\n",
              " 'audio': 647,\n",
              " 'detain': 648,\n",
              " 'conway': 649,\n",
              " 'moor': 650,\n",
              " 'laugh': 651,\n",
              " 'biden': 652,\n",
              " 'guy': 653,\n",
              " 'rant': 654,\n",
              " 'p': 655,\n",
              " 'seen': 656,\n",
              " 'troop': 657,\n",
              " 'daughter': 658,\n",
              " 'hammer': 659,\n",
              " 'prosecutor': 660,\n",
              " 'pari': 661,\n",
              " 'crimin': 662,\n",
              " 'aim': 663,\n",
              " 'epic': 664,\n",
              " 'victori': 665,\n",
              " 'yemen': 666,\n",
              " 'apolog': 667,\n",
              " 'continu': 668,\n",
              " 'role': 669,\n",
              " 'gov': 670,\n",
              " 'expert': 671,\n",
              " 'sue': 672,\n",
              " 'manag': 673,\n",
              " 'stupid': 674,\n",
              " 'committe': 675,\n",
              " 'mike': 676,\n",
              " 'weapon': 677,\n",
              " 'envoy': 678,\n",
              " 'oil': 679,\n",
              " 'place': 680,\n",
              " 'appear': 681,\n",
              " 'oper': 682,\n",
              " 'follow': 683,\n",
              " 'stay': 684,\n",
              " 'stage': 685,\n",
              " 'night': 686,\n",
              " 'prais': 687,\n",
              " 'spokesman': 688,\n",
              " 'ivanka': 689,\n",
              " 'men': 690,\n",
              " 'save': 691,\n",
              " 'crook': 692,\n",
              " 'insan': 693,\n",
              " 'brilliant': 694,\n",
              " 'check': 695,\n",
              " 'much': 696,\n",
              " 'econom': 697,\n",
              " 'actual': 698,\n",
              " 'human': 699,\n",
              " 'event': 700,\n",
              " 'kellyann': 701,\n",
              " 'bathroom': 702,\n",
              " 'kick': 703,\n",
              " 'total': 704,\n",
              " 'mcconnel': 705,\n",
              " 'share': 706,\n",
              " 'africa': 707,\n",
              " 'egypt': 708,\n",
              " 'catalonia': 709,\n",
              " 'gave': 710,\n",
              " 'whoa': 711,\n",
              " 'melania': 712,\n",
              " 'author': 713,\n",
              " 'cyber': 714,\n",
              " 'wrong': 715,\n",
              " 'mexican': 716,\n",
              " 'crazi': 717,\n",
              " 'barack': 718,\n",
              " 'bodi': 719,\n",
              " 'epa': 720,\n",
              " 'erdogan': 721,\n",
              " 'chri': 722,\n",
              " 'nato': 723,\n",
              " 'wear': 724,\n",
              " 'accept': 725,\n",
              " 'civil': 726,\n",
              " 'system': 727,\n",
              " 'train': 728,\n",
              " 'carolina': 729,\n",
              " 'irma': 730,\n",
              " 'surpris': 731,\n",
              " 'someth': 732,\n",
              " 'pentagon': 733,\n",
              " 'carson': 734,\n",
              " 'europ': 735,\n",
              " 'racism': 736,\n",
              " 'market': 737,\n",
              " 'spain': 738,\n",
              " 'convent': 739,\n",
              " 'pictur': 740,\n",
              " 'flashback': 741,\n",
              " 'spicer': 742,\n",
              " 'deport': 743,\n",
              " 'guest': 744,\n",
              " 'drive': 745,\n",
              " 'region': 746,\n",
              " 'desper': 747,\n",
              " 'hire': 748,\n",
              " 'cabinet': 749,\n",
              " 'palin': 750,\n",
              " 'univers': 751,\n",
              " 'condemn': 752,\n",
              " 'hurt': 753,\n",
              " 'futur': 754,\n",
              " 'suggest': 755,\n",
              " 'class': 756,\n",
              " 'progress': 757,\n",
              " 'statu': 758,\n",
              " 'chines': 759,\n",
              " 'remark': 760,\n",
              " 'summit': 761,\n",
              " 'ben': 762,\n",
              " 'nanci': 763,\n",
              " 'teacher': 764,\n",
              " 'rise': 765,\n",
              " 'teen': 766,\n",
              " 'book': 767,\n",
              " 'navi': 768,\n",
              " 'regul': 769,\n",
              " 'cover': 770,\n",
              " 'worri': 771,\n",
              " 'deliv': 772,\n",
              " 'long': 773,\n",
              " 'organ': 774,\n",
              " 'arabia': 775,\n",
              " 'base': 776,\n",
              " 'capit': 777,\n",
              " 'appoint': 778,\n",
              " 'fact': 779,\n",
              " 'ny': 780,\n",
              " 'request': 781,\n",
              " 'import': 782,\n",
              " 'energi': 783,\n",
              " 'brazil': 784,\n",
              " 'lawsuit': 785,\n",
              " 'sh': 786,\n",
              " 'vet': 787,\n",
              " 'cost': 788,\n",
              " 'hell': 789,\n",
              " 'suspend': 790,\n",
              " 'mueller': 791,\n",
              " 'invit': 792,\n",
              " 'thank': 793,\n",
              " 'caus': 794,\n",
              " 'un': 795,\n",
              " 'visa': 796,\n",
              " 'better': 797,\n",
              " 'deputi': 798,\n",
              " 'remain': 799,\n",
              " 'abus': 800,\n",
              " 'welcom': 801,\n",
              " 'ukrain': 802,\n",
              " 'posit': 803,\n",
              " 'christma': 804,\n",
              " 'perfect': 805,\n",
              " 'soro': 806,\n",
              " 'around': 807,\n",
              " 'romney': 808,\n",
              " 'mother': 809,\n",
              " 'k': 810,\n",
              " 'creat': 811,\n",
              " 'airport': 812,\n",
              " 'anchor': 813,\n",
              " 'confer': 814,\n",
              " 'elizabeth': 815,\n",
              " 'feel': 816,\n",
              " 'risk': 817,\n",
              " 'tear': 818,\n",
              " 'prepar': 819,\n",
              " 'punish': 820,\n",
              " 'least': 821,\n",
              " 'player': 822,\n",
              " 'today': 823,\n",
              " 'attend': 824,\n",
              " 'foundat': 825,\n",
              " 'anthem': 826,\n",
              " 'noth': 827,\n",
              " 'staff': 828,\n",
              " 'trial': 829,\n",
              " 'wait': 830,\n",
              " 'reach': 831,\n",
              " 'michigan': 832,\n",
              " 'dc': 833,\n",
              " 'church': 834,\n",
              " 'nazi': 835,\n",
              " 'african': 836,\n",
              " 'rebel': 837,\n",
              " 'mass': 838,\n",
              " 'oppos': 839,\n",
              " 'intel': 840,\n",
              " 'sunday': 841,\n",
              " 'proof': 842,\n",
              " 'low': 843,\n",
              " 'transit': 844,\n",
              " 'clear': 845,\n",
              " 'littl': 846,\n",
              " 'price': 847,\n",
              " 'complet': 848,\n",
              " 'sheriff': 849,\n",
              " 'flight': 850,\n",
              " 'choic': 851,\n",
              " 'problem': 852,\n",
              " 'troll': 853,\n",
              " 'cooper': 854,\n",
              " 'riot': 855,\n",
              " 'account': 856,\n",
              " 'furiou': 857,\n",
              " 'mark': 858,\n",
              " 'absolut': 859,\n",
              " 'professor': 860,\n",
              " 'limit': 861,\n",
              " 'begin': 862,\n",
              " 'actor': 863,\n",
              " 'isra': 864,\n",
              " 'whine': 865,\n",
              " 'tucker': 866,\n",
              " 'weigh': 867,\n",
              " 'wing': 868,\n",
              " 'avoid': 869,\n",
              " 'flint': 870,\n",
              " 'shame': 871,\n",
              " 'elector': 872,\n",
              " 'donor': 873,\n",
              " 'harass': 874,\n",
              " 'front': 875,\n",
              " 'embassi': 876,\n",
              " 'access': 877,\n",
              " 'megyn': 878,\n",
              " 'might': 879,\n",
              " 'oregon': 880,\n",
              " 'result': 881,\n",
              " 'trash': 882,\n",
              " 'johnson': 883,\n",
              " 'bundi': 884,\n",
              " 'e': 885,\n",
              " 'sale': 886,\n",
              " 'india': 887,\n",
              " 'moment': 888,\n",
              " 'pledg': 889,\n",
              " 'pakistan': 890,\n",
              " 'disput': 891,\n",
              " 'afghanistan': 892,\n",
              " 'council': 893,\n",
              " 'reilli': 894,\n",
              " 'food': 895,\n",
              " 'boost': 896,\n",
              " 'decid': 897,\n",
              " 'northern': 898,\n",
              " 'mom': 899,\n",
              " 'due': 900,\n",
              " 'file': 901,\n",
              " 'billionair': 902,\n",
              " 'insur': 903,\n",
              " 'red': 904,\n",
              " 'treasuri': 905,\n",
              " 'withdraw': 906,\n",
              " 'princ': 907,\n",
              " 'hariri': 908,\n",
              " 'friday': 909,\n",
              " 'sick': 910,\n",
              " 'labor': 911,\n",
              " 'michael': 912,\n",
              " 'congression': 913,\n",
              " 'sanctuari': 914,\n",
              " 'jame': 915,\n",
              " 'third': 916,\n",
              " 'nafta': 917,\n",
              " 'includ': 918,\n",
              " 'chairman': 919,\n",
              " 'vp': 920,\n",
              " 'steal': 921,\n",
              " 'hypocrit': 922,\n",
              " 'australia': 923,\n",
              " 'economi': 924,\n",
              " 'thought': 925,\n",
              " 'sell': 926,\n",
              " 'mail': 927,\n",
              " 'green': 928,\n",
              " 'compar': 929,\n",
              " 'west': 930,\n",
              " 'alabama': 931,\n",
              " 'oop': 932,\n",
              " 'educ': 933,\n",
              " 'receiv': 934,\n",
              " 'palestinian': 935,\n",
              " 'hanniti': 936,\n",
              " 'intern': 937,\n",
              " 'conspiraci': 938,\n",
              " 'impeach': 939,\n",
              " 'highlight': 940,\n",
              " 'viral': 941,\n",
              " 'cite': 942,\n",
              " 'rich': 943,\n",
              " 'nbc': 944,\n",
              " 'address': 945,\n",
              " 'inform': 946,\n",
              " 'moscow': 947,\n",
              " 'ohio': 948,\n",
              " 'parent': 949,\n",
              " 'employe': 950,\n",
              " 'hour': 951,\n",
              " 'brag': 952,\n",
              " 'detroit': 953,\n",
              " 'tension': 954,\n",
              " 'ga': 955,\n",
              " 'financ': 956,\n",
              " 'ireland': 957,\n",
              " 'alreadi': 958,\n",
              " 'updat': 959,\n",
              " 'pastor': 960,\n",
              " 'liter': 961,\n",
              " 'dollar': 962,\n",
              " 'draw': 963,\n",
              " 'afghan': 964,\n",
              " 'graft': 965,\n",
              " 'asia': 966,\n",
              " 'father': 967,\n",
              " 'nail': 968,\n",
              " 'mugab': 969,\n",
              " 'communist': 970,\n",
              " 'bash': 971,\n",
              " 'steve': 972,\n",
              " 'agenda': 973,\n",
              " 'illinoi': 974,\n",
              " 'buy': 975,\n",
              " 'carlson': 976,\n",
              " 'negoti': 977,\n",
              " 'insid': 978,\n",
              " 'testifi': 979,\n",
              " 'ladi': 980,\n",
              " 'main': 981,\n",
              " 'rock': 982,\n",
              " 'husband': 983,\n",
              " 'minut': 984,\n",
              " 'ground': 985,\n",
              " 'explod': 986,\n",
              " 'read': 987,\n",
              " 'patriot': 988,\n",
              " 'percent': 989,\n",
              " 'earli': 990,\n",
              " 'iranian': 991,\n",
              " 'kenya': 992,\n",
              " 'baltimor': 993,\n",
              " 'brother': 994,\n",
              " 'rnc': 995,\n",
              " 'la': 996,\n",
              " 'sinc': 997,\n",
              " 'controversi': 998,\n",
              " 'socialist': 999,\n",
              " 'coal': 1000,\n",
              " ...}"
            ]
          },
          "metadata": {},
          "execution_count": 46
        }
      ],
      "source": [
        "#Vocabulary.Here index is assigned against each word of entire review\n",
        "t.word_index"
      ]
    },
    {
      "cell_type": "code",
      "execution_count": 47,
      "id": "c51081f8",
      "metadata": {
        "id": "c51081f8"
      },
      "outputs": [],
      "source": [
        "# Prepare Training and Test Data\n",
        "# Get the word index for each of the word in the review\n",
        "X_train = t.texts_to_sequences(X_train.tolist())"
      ]
    },
    {
      "cell_type": "code",
      "execution_count": 48,
      "id": "d195f2fb",
      "metadata": {
        "colab": {
          "base_uri": "https://localhost:8080/"
        },
        "id": "d195f2fb",
        "outputId": "3437f855-0553-4401-a08b-16f1240bec09"
      },
      "outputs": [
        {
          "output_type": "execute_result",
          "data": {
            "text/plain": [
              "[45, 68, 3807, 193, 32, 5, 6]"
            ]
          },
          "metadata": {},
          "execution_count": 48
        }
      ],
      "source": [
        "#ckecking first data after tokenization\n",
        "X_train[0]"
      ]
    },
    {
      "cell_type": "code",
      "execution_count": 49,
      "id": "c813b252",
      "metadata": {
        "id": "c813b252"
      },
      "outputs": [],
      "source": [
        "# coverting test data to sequence of numbers\n",
        "X_test = t.texts_to_sequences(X_test.tolist())  "
      ]
    },
    {
      "cell_type": "code",
      "execution_count": 50,
      "id": "16a3d035",
      "metadata": {
        "id": "16a3d035"
      },
      "outputs": [],
      "source": [
        "# Pad Sequences\n",
        "#Define maximum number of words to consider in each review\n",
        "max_review_length = 100"
      ]
    },
    {
      "cell_type": "code",
      "execution_count": 51,
      "id": "421032ba",
      "metadata": {
        "id": "421032ba"
      },
      "outputs": [],
      "source": [
        "#Pad training and test reviews\n",
        "X_train = tf.keras.preprocessing.sequence.pad_sequences(X_train,maxlen = max_review_length, padding= 'pre')\n",
        "X_test = tf.keras.preprocessing.sequence.pad_sequences(X_test,maxlen = max_review_length, padding= 'pre')"
      ]
    },
    {
      "cell_type": "code",
      "execution_count": 52,
      "id": "ab267b27",
      "metadata": {
        "colab": {
          "base_uri": "https://localhost:8080/"
        },
        "id": "ab267b27",
        "outputId": "315386b5-e3ff-4fd7-c2bc-d984732e3344"
      },
      "outputs": [
        {
          "output_type": "stream",
          "name": "stdout",
          "text": [
            "lenght of sequence : 100\n"
          ]
        },
        {
          "output_type": "execute_result",
          "data": {
            "text/plain": [
              "array([   0,    0,    0,    0,    0,    0,    0,    0,    0,    0,    0,\n",
              "          0,    0,    0,    0,    0,    0,    0,    0,    0,    0,    0,\n",
              "          0,    0,    0,    0,    0,    0,    0,    0,    0,    0,    0,\n",
              "          0,    0,    0,    0,    0,    0,    0,    0,    0,    0,    0,\n",
              "          0,    0,    0,    0,    0,    0,    0,    0,    0,    0,    0,\n",
              "          0,    0,    0,    0,    0,    0,    0,    0,    0,    0,    0,\n",
              "          0,    0,    0,    0,    0,    0,    0,    0,    0,    0,    0,\n",
              "          0,    0,    0,    0,    0,    0,    0,    0,    0,    0,    0,\n",
              "          0,    0,    0,    0,    0,   45,   68, 3807,  193,   32,    5,\n",
              "          6], dtype=int32)"
            ]
          },
          "metadata": {},
          "execution_count": 52
        }
      ],
      "source": [
        "# checking data after padding and counting lenght\n",
        "print('lenght of sequence :',len(X_train[0]))\n",
        "X_train[0]"
      ]
    },
    {
      "cell_type": "code",
      "execution_count": 53,
      "id": "7e29fb08",
      "metadata": {
        "colab": {
          "base_uri": "https://localhost:8080/"
        },
        "id": "7e29fb08",
        "outputId": "f023570c-20b4-46ef-b2f5-99aa44560faf"
      },
      "outputs": [
        {
          "output_type": "execute_result",
          "data": {
            "text/plain": [
              "(31427, 100)"
            ]
          },
          "metadata": {},
          "execution_count": 53
        }
      ],
      "source": [
        "X_train.shape"
      ]
    },
    {
      "cell_type": "code",
      "execution_count": 54,
      "id": "1733d6c2",
      "metadata": {
        "colab": {
          "base_uri": "https://localhost:8080/"
        },
        "id": "1733d6c2",
        "outputId": "3574a326-6463-4958-a653-90b2c478d0d2"
      },
      "outputs": [
        {
          "output_type": "execute_result",
          "data": {
            "text/plain": [
              "numpy.ndarray"
            ]
          },
          "metadata": {},
          "execution_count": 54
        }
      ],
      "source": [
        "type(X_train)"
      ]
    },
    {
      "cell_type": "code",
      "execution_count": 55,
      "id": "cee5f80a",
      "metadata": {
        "colab": {
          "base_uri": "https://localhost:8080/",
          "height": 235
        },
        "id": "cee5f80a",
        "outputId": "6dd50793-477d-4c3b-ab1a-53e050b81391"
      },
      "outputs": [
        {
          "output_type": "execute_result",
          "data": {
            "text/plain": [
              "   0   1   2   3   4   5   6   7   8   9   ...    90    91   92    93    94  \\\n",
              "0   0   0   0   0   0   0   0   0   0   0  ...     0     0    0    45    68   \n",
              "1   0   0   0   0   0   0   0   0   0   0  ...   465     2  622     9  1372   \n",
              "2   0   0   0   0   0   0   0   0   0   0  ...   313  2461  100  1265   294   \n",
              "3   0   0   0   0   0   0   0   0   0   0  ...  1266   671  160  2197   836   \n",
              "4   0   0   0   0   0   0   0   0   0   0  ...     0     0    0     0     0   \n",
              "\n",
              "     95    96    97   98  99  \n",
              "0  3807   193    32    5   6  \n",
              "1   216  1668   459  177   1  \n",
              "2  2262   265  5845   12   1  \n",
              "3   314    39  1595    5   6  \n",
              "4    10   267   315  384   3  \n",
              "\n",
              "[5 rows x 100 columns]"
            ],
            "text/html": [
              "\n",
              "  <div id=\"df-7c17e2b0-f882-4122-8614-775a499e911b\">\n",
              "    <div class=\"colab-df-container\">\n",
              "      <div>\n",
              "<style scoped>\n",
              "    .dataframe tbody tr th:only-of-type {\n",
              "        vertical-align: middle;\n",
              "    }\n",
              "\n",
              "    .dataframe tbody tr th {\n",
              "        vertical-align: top;\n",
              "    }\n",
              "\n",
              "    .dataframe thead th {\n",
              "        text-align: right;\n",
              "    }\n",
              "</style>\n",
              "<table border=\"1\" class=\"dataframe\">\n",
              "  <thead>\n",
              "    <tr style=\"text-align: right;\">\n",
              "      <th></th>\n",
              "      <th>0</th>\n",
              "      <th>1</th>\n",
              "      <th>2</th>\n",
              "      <th>3</th>\n",
              "      <th>4</th>\n",
              "      <th>5</th>\n",
              "      <th>6</th>\n",
              "      <th>7</th>\n",
              "      <th>8</th>\n",
              "      <th>9</th>\n",
              "      <th>...</th>\n",
              "      <th>90</th>\n",
              "      <th>91</th>\n",
              "      <th>92</th>\n",
              "      <th>93</th>\n",
              "      <th>94</th>\n",
              "      <th>95</th>\n",
              "      <th>96</th>\n",
              "      <th>97</th>\n",
              "      <th>98</th>\n",
              "      <th>99</th>\n",
              "    </tr>\n",
              "  </thead>\n",
              "  <tbody>\n",
              "    <tr>\n",
              "      <th>0</th>\n",
              "      <td>0</td>\n",
              "      <td>0</td>\n",
              "      <td>0</td>\n",
              "      <td>0</td>\n",
              "      <td>0</td>\n",
              "      <td>0</td>\n",
              "      <td>0</td>\n",
              "      <td>0</td>\n",
              "      <td>0</td>\n",
              "      <td>0</td>\n",
              "      <td>...</td>\n",
              "      <td>0</td>\n",
              "      <td>0</td>\n",
              "      <td>0</td>\n",
              "      <td>45</td>\n",
              "      <td>68</td>\n",
              "      <td>3807</td>\n",
              "      <td>193</td>\n",
              "      <td>32</td>\n",
              "      <td>5</td>\n",
              "      <td>6</td>\n",
              "    </tr>\n",
              "    <tr>\n",
              "      <th>1</th>\n",
              "      <td>0</td>\n",
              "      <td>0</td>\n",
              "      <td>0</td>\n",
              "      <td>0</td>\n",
              "      <td>0</td>\n",
              "      <td>0</td>\n",
              "      <td>0</td>\n",
              "      <td>0</td>\n",
              "      <td>0</td>\n",
              "      <td>0</td>\n",
              "      <td>...</td>\n",
              "      <td>465</td>\n",
              "      <td>2</td>\n",
              "      <td>622</td>\n",
              "      <td>9</td>\n",
              "      <td>1372</td>\n",
              "      <td>216</td>\n",
              "      <td>1668</td>\n",
              "      <td>459</td>\n",
              "      <td>177</td>\n",
              "      <td>1</td>\n",
              "    </tr>\n",
              "    <tr>\n",
              "      <th>2</th>\n",
              "      <td>0</td>\n",
              "      <td>0</td>\n",
              "      <td>0</td>\n",
              "      <td>0</td>\n",
              "      <td>0</td>\n",
              "      <td>0</td>\n",
              "      <td>0</td>\n",
              "      <td>0</td>\n",
              "      <td>0</td>\n",
              "      <td>0</td>\n",
              "      <td>...</td>\n",
              "      <td>313</td>\n",
              "      <td>2461</td>\n",
              "      <td>100</td>\n",
              "      <td>1265</td>\n",
              "      <td>294</td>\n",
              "      <td>2262</td>\n",
              "      <td>265</td>\n",
              "      <td>5845</td>\n",
              "      <td>12</td>\n",
              "      <td>1</td>\n",
              "    </tr>\n",
              "    <tr>\n",
              "      <th>3</th>\n",
              "      <td>0</td>\n",
              "      <td>0</td>\n",
              "      <td>0</td>\n",
              "      <td>0</td>\n",
              "      <td>0</td>\n",
              "      <td>0</td>\n",
              "      <td>0</td>\n",
              "      <td>0</td>\n",
              "      <td>0</td>\n",
              "      <td>0</td>\n",
              "      <td>...</td>\n",
              "      <td>1266</td>\n",
              "      <td>671</td>\n",
              "      <td>160</td>\n",
              "      <td>2197</td>\n",
              "      <td>836</td>\n",
              "      <td>314</td>\n",
              "      <td>39</td>\n",
              "      <td>1595</td>\n",
              "      <td>5</td>\n",
              "      <td>6</td>\n",
              "    </tr>\n",
              "    <tr>\n",
              "      <th>4</th>\n",
              "      <td>0</td>\n",
              "      <td>0</td>\n",
              "      <td>0</td>\n",
              "      <td>0</td>\n",
              "      <td>0</td>\n",
              "      <td>0</td>\n",
              "      <td>0</td>\n",
              "      <td>0</td>\n",
              "      <td>0</td>\n",
              "      <td>0</td>\n",
              "      <td>...</td>\n",
              "      <td>0</td>\n",
              "      <td>0</td>\n",
              "      <td>0</td>\n",
              "      <td>0</td>\n",
              "      <td>0</td>\n",
              "      <td>10</td>\n",
              "      <td>267</td>\n",
              "      <td>315</td>\n",
              "      <td>384</td>\n",
              "      <td>3</td>\n",
              "    </tr>\n",
              "  </tbody>\n",
              "</table>\n",
              "<p>5 rows × 100 columns</p>\n",
              "</div>\n",
              "      <button class=\"colab-df-convert\" onclick=\"convertToInteractive('df-7c17e2b0-f882-4122-8614-775a499e911b')\"\n",
              "              title=\"Convert this dataframe to an interactive table.\"\n",
              "              style=\"display:none;\">\n",
              "        \n",
              "  <svg xmlns=\"http://www.w3.org/2000/svg\" height=\"24px\"viewBox=\"0 0 24 24\"\n",
              "       width=\"24px\">\n",
              "    <path d=\"M0 0h24v24H0V0z\" fill=\"none\"/>\n",
              "    <path d=\"M18.56 5.44l.94 2.06.94-2.06 2.06-.94-2.06-.94-.94-2.06-.94 2.06-2.06.94zm-11 1L8.5 8.5l.94-2.06 2.06-.94-2.06-.94L8.5 2.5l-.94 2.06-2.06.94zm10 10l.94 2.06.94-2.06 2.06-.94-2.06-.94-.94-2.06-.94 2.06-2.06.94z\"/><path d=\"M17.41 7.96l-1.37-1.37c-.4-.4-.92-.59-1.43-.59-.52 0-1.04.2-1.43.59L10.3 9.45l-7.72 7.72c-.78.78-.78 2.05 0 2.83L4 21.41c.39.39.9.59 1.41.59.51 0 1.02-.2 1.41-.59l7.78-7.78 2.81-2.81c.8-.78.8-2.07 0-2.86zM5.41 20L4 18.59l7.72-7.72 1.47 1.35L5.41 20z\"/>\n",
              "  </svg>\n",
              "      </button>\n",
              "      \n",
              "  <style>\n",
              "    .colab-df-container {\n",
              "      display:flex;\n",
              "      flex-wrap:wrap;\n",
              "      gap: 12px;\n",
              "    }\n",
              "\n",
              "    .colab-df-convert {\n",
              "      background-color: #E8F0FE;\n",
              "      border: none;\n",
              "      border-radius: 50%;\n",
              "      cursor: pointer;\n",
              "      display: none;\n",
              "      fill: #1967D2;\n",
              "      height: 32px;\n",
              "      padding: 0 0 0 0;\n",
              "      width: 32px;\n",
              "    }\n",
              "\n",
              "    .colab-df-convert:hover {\n",
              "      background-color: #E2EBFA;\n",
              "      box-shadow: 0px 1px 2px rgba(60, 64, 67, 0.3), 0px 1px 3px 1px rgba(60, 64, 67, 0.15);\n",
              "      fill: #174EA6;\n",
              "    }\n",
              "\n",
              "    [theme=dark] .colab-df-convert {\n",
              "      background-color: #3B4455;\n",
              "      fill: #D2E3FC;\n",
              "    }\n",
              "\n",
              "    [theme=dark] .colab-df-convert:hover {\n",
              "      background-color: #434B5C;\n",
              "      box-shadow: 0px 1px 3px 1px rgba(0, 0, 0, 0.15);\n",
              "      filter: drop-shadow(0px 1px 2px rgba(0, 0, 0, 0.3));\n",
              "      fill: #FFFFFF;\n",
              "    }\n",
              "  </style>\n",
              "\n",
              "      <script>\n",
              "        const buttonEl =\n",
              "          document.querySelector('#df-7c17e2b0-f882-4122-8614-775a499e911b button.colab-df-convert');\n",
              "        buttonEl.style.display =\n",
              "          google.colab.kernel.accessAllowed ? 'block' : 'none';\n",
              "\n",
              "        async function convertToInteractive(key) {\n",
              "          const element = document.querySelector('#df-7c17e2b0-f882-4122-8614-775a499e911b');\n",
              "          const dataTable =\n",
              "            await google.colab.kernel.invokeFunction('convertToInteractive',\n",
              "                                                     [key], {});\n",
              "          if (!dataTable) return;\n",
              "\n",
              "          const docLinkHtml = 'Like what you see? Visit the ' +\n",
              "            '<a target=\"_blank\" href=https://colab.research.google.com/notebooks/data_table.ipynb>data table notebook</a>'\n",
              "            + ' to learn more about interactive tables.';\n",
              "          element.innerHTML = '';\n",
              "          dataTable['output_type'] = 'display_data';\n",
              "          await google.colab.output.renderOutput(dataTable, element);\n",
              "          const docLink = document.createElement('div');\n",
              "          docLink.innerHTML = docLinkHtml;\n",
              "          element.appendChild(docLink);\n",
              "        }\n",
              "      </script>\n",
              "    </div>\n",
              "  </div>\n",
              "  "
            ]
          },
          "metadata": {},
          "execution_count": 55
        }
      ],
      "source": [
        "#converting into X_train dataframe\n",
        "pd.DataFrame(X_train).head()"
      ]
    },
    {
      "cell_type": "code",
      "execution_count": 56,
      "id": "0def227f",
      "metadata": {
        "colab": {
          "base_uri": "https://localhost:8080/"
        },
        "id": "0def227f",
        "outputId": "3dd4a0a5-4cf4-4cfe-c7b6-5bba92f1f4be"
      },
      "outputs": [
        {
          "output_type": "execute_result",
          "data": {
            "text/plain": [
              "(13469, 100)"
            ]
          },
          "metadata": {},
          "execution_count": 56
        }
      ],
      "source": [
        "X_test.shape"
      ]
    },
    {
      "cell_type": "markdown",
      "id": "8c586fce",
      "metadata": {
        "id": "8c586fce"
      },
      "source": [
        "# Model building"
      ]
    },
    {
      "cell_type": "code",
      "execution_count": 57,
      "id": "3b7af45b",
      "metadata": {
        "id": "3b7af45b"
      },
      "outputs": [],
      "source": [
        "#Initializing the model\n",
        "tf.keras.backend.clear_session()\n",
        "model = tf.keras.Sequential()"
      ]
    },
    {
      "cell_type": "code",
      "execution_count": 58,
      "id": "33543832",
      "metadata": {
        "id": "33543832"
      },
      "outputs": [],
      "source": [
        "model.add(tf.keras.layers.Embedding(top_words+1,50,input_length = max_review_length,trainable = False))  #Vocablury size = top_words,#Embedding size.every word lengh is of 50 numbers.#Number of words in each review"
      ]
    },
    {
      "cell_type": "code",
      "execution_count": 59,
      "id": "8fe54104",
      "metadata": {
        "id": "8fe54104"
      },
      "outputs": [],
      "source": [
        "#adding Batchbormalization and dropouts\n",
        "model.add(tf.keras.layers.BatchNormalization())\n",
        "model.add(tf.keras.layers.Dropout(0.25))\n"
      ]
    },
    {
      "cell_type": "code",
      "execution_count": 60,
      "id": "9157edf2",
      "metadata": {
        "id": "9157edf2"
      },
      "outputs": [],
      "source": [
        "#Adding LSTM layer with 128 states as RNN layers\n",
        "model.add(tf.keras.layers.LSTM(128,dropout = 0.25))"
      ]
    },
    {
      "cell_type": "code",
      "execution_count": 61,
      "id": "09b91c7f",
      "metadata": {
        "id": "09b91c7f"
      },
      "outputs": [],
      "source": [
        "#adding Batchbormalization and dropouts\n",
        "model.add(tf.keras.layers.BatchNormalization())\n",
        "model.add(tf.keras.layers.Dropout(0.25))"
      ]
    },
    {
      "cell_type": "code",
      "execution_count": 62,
      "id": "c5b24702",
      "metadata": {
        "id": "c5b24702"
      },
      "outputs": [],
      "source": [
        "# Adding dense layer for output\n",
        "model.add(tf.keras.layers.Dense(1, activation= 'sigmoid'))"
      ]
    },
    {
      "cell_type": "code",
      "execution_count": 63,
      "id": "fb9a7798",
      "metadata": {
        "id": "fb9a7798"
      },
      "outputs": [],
      "source": [
        "#Compile the model\n",
        "model.compile(optimizer= tf.keras.optimizers.Adam(lr=0.001),loss='binary_crossentropy',metrics= ['accuracy'])"
      ]
    },
    {
      "cell_type": "code",
      "execution_count": 64,
      "id": "300c5da4",
      "metadata": {
        "colab": {
          "base_uri": "https://localhost:8080/"
        },
        "id": "300c5da4",
        "outputId": "8bde226c-fd3c-4eaa-9104-e8bdcc1ac9d4"
      },
      "outputs": [
        {
          "output_type": "stream",
          "name": "stdout",
          "text": [
            "Model: \"sequential\"\n",
            "_________________________________________________________________\n",
            " Layer (type)                Output Shape              Param #   \n",
            "=================================================================\n",
            " embedding (Embedding)       (None, 100, 50)           500050    \n",
            "                                                                 \n",
            " batch_normalization (BatchN  (None, 100, 50)          200       \n",
            " ormalization)                                                   \n",
            "                                                                 \n",
            " dropout (Dropout)           (None, 100, 50)           0         \n",
            "                                                                 \n",
            " lstm (LSTM)                 (None, 128)               91648     \n",
            "                                                                 \n",
            " batch_normalization_1 (Batc  (None, 128)              512       \n",
            " hNormalization)                                                 \n",
            "                                                                 \n",
            " dropout_1 (Dropout)         (None, 128)               0         \n",
            "                                                                 \n",
            " dense (Dense)               (None, 1)                 129       \n",
            "                                                                 \n",
            "=================================================================\n",
            "Total params: 592,539\n",
            "Trainable params: 92,133\n",
            "Non-trainable params: 500,406\n",
            "_________________________________________________________________\n"
          ]
        }
      ],
      "source": [
        "model.summary()"
      ]
    },
    {
      "cell_type": "code",
      "execution_count": 65,
      "id": "63a164a8",
      "metadata": {
        "id": "63a164a8"
      },
      "outputs": [],
      "source": [
        "from tensorflow.keras.callbacks import EarlyStopping\n",
        "# This callback will stop the training when there is no improvement in the loss for five consecutive epochs.\n",
        "early_stopping = tf.keras.callbacks.EarlyStopping(monitor = 'loss', patience=3, mode = 'auto')"
      ]
    },
    {
      "cell_type": "code",
      "execution_count": 66,
      "id": "e7b34491",
      "metadata": {
        "colab": {
          "base_uri": "https://localhost:8080/"
        },
        "id": "e7b34491",
        "outputId": "f7711a2f-2838-4eb3-c1d9-ebfd29985f38"
      },
      "outputs": [
        {
          "output_type": "stream",
          "name": "stdout",
          "text": [
            "Epoch 1/6\n",
            "442/442 [==============================] - 104s 230ms/step - loss: 0.0172 - accuracy: 0.9942 - val_loss: 0.0630 - val_accuracy: 1.0000\n",
            "Epoch 2/6\n",
            "442/442 [==============================] - 108s 245ms/step - loss: 0.0019 - accuracy: 0.9996 - val_loss: 1.5797e-06 - val_accuracy: 1.0000\n",
            "Epoch 3/6\n",
            "442/442 [==============================] - 99s 224ms/step - loss: 0.0014 - accuracy: 0.9996 - val_loss: 5.5301e-07 - val_accuracy: 1.0000\n",
            "Epoch 4/6\n",
            "442/442 [==============================] - 99s 224ms/step - loss: 9.0742e-04 - accuracy: 0.9997 - val_loss: 2.6896e-07 - val_accuracy: 1.0000\n",
            "Epoch 5/6\n",
            "442/442 [==============================] - 97s 219ms/step - loss: 6.2763e-04 - accuracy: 0.9998 - val_loss: 1.1121e-07 - val_accuracy: 1.0000\n",
            "Epoch 6/6\n",
            "442/442 [==============================] - 97s 219ms/step - loss: 7.6462e-04 - accuracy: 0.9998 - val_loss: 3.6805e-08 - val_accuracy: 1.0000\n"
          ]
        }
      ],
      "source": [
        "#history = model.fit(X_train,y_train,epochs = 10,batch_size = 32,validation_data=(X_test,y_test),callbacks=[early_stopping])\n",
        "history = model.fit(X_train,y_train,epochs = 6,batch_size = 64,validation_data=(X_test,y_test),validation_split = 0.1)"
      ]
    },
    {
      "cell_type": "code",
      "execution_count": 67,
      "id": "f8dc98c8",
      "metadata": {
        "colab": {
          "base_uri": "https://localhost:8080/",
          "height": 295
        },
        "id": "f8dc98c8",
        "outputId": "cf267b10-cc3f-44d4-b64d-414f56b74c2b"
      },
      "outputs": [
        {
          "output_type": "display_data",
          "data": {
            "text/plain": [
              "<Figure size 432x288 with 1 Axes>"
            ],
            "image/png": "[encoded data removed]"
          },
          "metadata": {
            "needs_background": "light"
          }
        }
      ],
      "source": [
        "#Plotting model loss\n",
        "plt.plot(history.history['loss'])\n",
        "plt.plot(history.history['val_loss'])\n",
        "plt.title('model loss')\n",
        "plt.ylabel('loss')\n",
        "plt.xlabel('epoch')\n",
        "plt.legend(['train', 'validation'], loc='upper left')\n",
        "plt.show()"
      ]
    },
    {
      "cell_type": "code",
      "execution_count": 68,
      "id": "d9e54198",
      "metadata": {
        "colab": {
          "base_uri": "https://localhost:8080/",
          "height": 295
        },
        "id": "d9e54198",
        "outputId": "45f7d1d6-3b94-414a-89e5-0bbe7b67d0fd"
      },
      "outputs": [
        {
          "output_type": "display_data",
          "data": {
            "text/plain": [
              "<Figure size 432x288 with 1 Axes>"
            ],
            "image/png": "[encoded data removed]"
          },
          "metadata": {
            "needs_background": "light"
          }
        }
      ],
      "source": [
        "#Plotting accuracy\n",
        "plt.plot(history.history['accuracy'])\n",
        "plt.plot(history.history['val_accuracy'])\n",
        "plt.title('accuracy')\n",
        "plt.ylabel('loss')\n",
        "plt.xlabel('epoch')\n",
        "plt.legend(['train', 'validation'], loc='upper left')\n",
        "plt.show()"
      ]
    },
    {
      "cell_type": "code",
      "source": [
        "print(\"Accuracy of the model on Training Data is - \" , model.evaluate(X_train,y_train)[1]*100 , \"%\")\n",
        "print(\"Accuracy of the model on Testing Data is - \" , model.evaluate(X_test,y_test)[1]*100 , \"%\")"
      ],
      "metadata": {
        "id": "7pcQekAFXjTS",
        "colab": {
          "base_uri": "https://localhost:8080/"
        },
        "outputId": "da605840-f995-4cae-9e62-1960f1be0a4e"
      },
      "id": "7pcQekAFXjTS",
      "execution_count": 69,
      "outputs": [
        {
          "output_type": "stream",
          "name": "stdout",
          "text": [
            "983/983 [==============================] - 38s 39ms/step - loss: 4.1692e-08 - accuracy: 1.0000\n",
            "Accuracy of the model on Training Data is -  100.0 %\n",
            "421/421 [==============================] - 16s 38ms/step - loss: 3.8145e-08 - accuracy: 1.0000\n",
            "Accuracy of the model on Testing Data is -  100.0 %\n"
          ]
        }
      ]
    },
    {
      "cell_type": "code",
      "source": [
        "test_pred = (model.predict(X_test) > 0.5).astype(\"int32\")\n",
        "test_pred"
      ],
      "metadata": {
        "colab": {
          "base_uri": "https://localhost:8080/"
        },
        "id": "JhpNZaYETG6h",
        "outputId": "b8f900d5-63f6-4ac4-9db3-b5773afbd54c"
      },
      "id": "JhpNZaYETG6h",
      "execution_count": 70,
      "outputs": [
        {
          "output_type": "execute_result",
          "data": {
            "text/plain": [
              "array([[0],\n",
              "       [1],\n",
              "       [0],\n",
              "       ...,\n",
              "       [1],\n",
              "       [1],\n",
              "       [0]], dtype=int32)"
            ]
          },
          "metadata": {},
          "execution_count": 70
        }
      ]
    },
    {
      "cell_type": "code",
      "source": [
        "def plot_roc_curve(fpr,tpr): \n",
        "    plt.figure(figsize = (20,5))\n",
        "    plt.plot(fpr,tpr, color = 'green') \n",
        "    plt.axis([0,1,0,1]) \n",
        "    plt.xlabel('False Positive Rate') \n",
        "    plt.ylabel('True Positive Rate') \n",
        "    plt.show()    \n",
        "\n",
        "fpr , tpr , thresholds = roc_curve (y_test , test_pred)\n",
        "plot_roc_curve(fpr,tpr)"
      ],
      "metadata": {
        "colab": {
          "base_uri": "https://localhost:8080/",
          "height": 333
        },
        "id": "O9hOgMVjU7Uw",
        "outputId": "ff6027bd-db95-4a38-d7ef-102db9ca28ec"
      },
      "id": "O9hOgMVjU7Uw",
      "execution_count": 73,
      "outputs": [
        {
          "output_type": "display_data",
          "data": {
            "text/plain": [
              "<Figure size 1440x360 with 1 Axes>"
            ],
            "image/png": "[encoded data removed]"
          },
          "metadata": {
            "needs_background": "light"
          }
        }
      ]
    },
    {
      "cell_type": "code",
      "source": [
        "print(classification_report(y_test, test_pred, target_names = ['Fake news','Real news']))"
      ],
      "metadata": {
        "colab": {
          "base_uri": "https://localhost:8080/"
        },
        "id": "8zSP1VnETbxq",
        "outputId": "10a189ac-e906-4ebe-9910-4ef4f34dd7a0"
      },
      "id": "8zSP1VnETbxq",
      "execution_count": 74,
      "outputs": [
        {
          "output_type": "stream",
          "name": "stdout",
          "text": [
            "              precision    recall  f1-score   support\n",
            "\n",
            "   Fake news       1.00      1.00      1.00      7044\n",
            "   Real news       1.00      1.00      1.00      6425\n",
            "\n",
            "    accuracy                           1.00     13469\n",
            "   macro avg       1.00      1.00      1.00     13469\n",
            "weighted avg       1.00      1.00      1.00     13469\n",
            "\n"
          ]
        }
      ]
    },
    {
      "cell_type": "code",
      "source": [
        "confusion_matrix(y_test,test_pred)"
      ],
      "metadata": {
        "colab": {
          "base_uri": "https://localhost:8080/"
        },
        "id": "69CfxPxqTHDc",
        "outputId": "f22dcdf8-8e1b-4d69-9d92-acff7bbfb325"
      },
      "id": "69CfxPxqTHDc",
      "execution_count": 78,
      "outputs": [
        {
          "output_type": "execute_result",
          "data": {
            "text/plain": [
              "array([[7044,    0],\n",
              "       [   0, 6425]])"
            ]
          },
          "metadata": {},
          "execution_count": 78
        }
      ]
    },
    {
      "cell_type": "code",
      "source": [
        "cmatrix = confusion_matrix(y_test,test_pred)\n",
        "cmatrix = pd.DataFrame(cmatrix , index = ['Fake news','real news'] , columns = ['Fake news','real news'])"
      ],
      "metadata": {
        "id": "_6b2sCPSTHHj"
      },
      "id": "_6b2sCPSTHHj",
      "execution_count": 79,
      "outputs": []
    },
    {
      "cell_type": "code",
      "source": [
        "plt.figure(figsize = (7,7))\n",
        "sns.heatmap(cmatrix,cmap= \"Oranges\", linecolor = 'black' , linewidth = 1 , annot = True, fmt='' , xticklabels = ['Fake news','real news'] , yticklabels = ['Fake news','real news'])\n",
        "plt.xlabel(\"Predicted\")\n",
        "plt.ylabel(\"Actual\")"
      ],
      "metadata": {
        "colab": {
          "base_uri": "https://localhost:8080/",
          "height": 461
        },
        "id": "sZhSX11EUSMy",
        "outputId": "f95f532a-64b4-404f-ef2f-3caf80a97d6c"
      },
      "id": "sZhSX11EUSMy",
      "execution_count": 80,
      "outputs": [
        {
          "output_type": "execute_result",
          "data": {
            "text/plain": [
              "Text(42.0, 0.5, 'Actual')"
            ]
          },
          "metadata": {},
          "execution_count": 80
        },
        {
          "output_type": "display_data",
          "data": {
            "text/plain": [
              "<Figure size 504x504 with 2 Axes>"
            ],
            "image/png": "[encoded data removed]"
          },
          "metadata": {
            "needs_background": "light"
          }
        }
      ]
    },
    {
      "cell_type": "code",
      "source": [
        ""
      ],
      "metadata": {
        "id": "tA32GocIUsmM"
      },
      "id": "tA32GocIUsmM",
      "execution_count": null,
      "outputs": []
    }
  ],
  "metadata": {
    "kernelspec": {
      "display_name": "Python 3 (ipykernel)",
      "language": "python",
      "name": "python3"
    },
    "language_info": {
      "codemirror_mode": {
        "name": "ipython",
        "version": 3
      },
      "file_extension": ".py",
      "mimetype": "text/x-python",
      "name": "python",
      "nbconvert_exporter": "python",
      "pygments_lexer": "ipython3",
      "version": "3.9.12"
    },
    "colab": {
      "name": "Fake and real news.ipynb",
      "provenance": [],
      "collapsed_sections": []
    },
    "accelerator": "GPU",
    "gpuClass": "standard"
  },
  "nbformat": 4,
  "nbformat_minor": 5
}